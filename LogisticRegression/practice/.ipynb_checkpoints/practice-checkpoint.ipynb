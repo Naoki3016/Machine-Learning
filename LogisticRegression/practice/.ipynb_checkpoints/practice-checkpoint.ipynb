{
 "cells": [
  {
   "cell_type": "code",
   "execution_count": 4,
   "id": "60a449f3-c78c-44ba-aada-2fe7e1161d72",
   "metadata": {
    "tags": []
   },
   "outputs": [
    {
     "data": {
      "text/plain": [
       "Index(['pokedex_number', 'name', 'japanese_name', 'base_total', 'attack',\n",
       "       'defense', 'sp_attack', 'sp_defense', 'speed', 'hp', 'capture_rate',\n",
       "       'experience_growth', 'type1', 'type2', 'classification', 'generation',\n",
       "       'is_legendary', 'x', 'y'],\n",
       "      dtype='object')"
      ]
     },
     "execution_count": 4,
     "metadata": {},
     "output_type": "execute_result"
    }
   ],
   "source": [
    "# pandasでcsvファイルの読み取り\n",
    "import pandas as pd\n",
    "pokemon  = pd.read_csv('pokemon.csv')\n",
    "pokemon.columns"
   ]
  },
  {
   "cell_type": "code",
   "execution_count": 8,
   "id": "bb5e9fb0-bd53-4ff5-86eb-394b321c2f3c",
   "metadata": {},
   "outputs": [],
   "source": [
    " # 説明変数と目的変数の設定,伝説かどうかの分類\n",
    "x = pokemon[['attack','defense', 'sp_attack', 'sp_defense', 'speed', 'hp']]\n",
    "y = pokemon[['is_legendary']]"
   ]
  },
  {
   "cell_type": "code",
   "execution_count": 12,
   "id": "1157b1cd-87cc-4466-b85e-e0e287e4ea5c",
   "metadata": {},
   "outputs": [],
   "source": [
    "# 学習データの分割・準備\n",
    "from sklearn.model_selection import train_test_split\n",
    "x_train, x_test, y_train, y_test = train_test_split(x,y,test_size = 0.3)"
   ]
  },
  {
   "cell_type": "code",
   "execution_count": 14,
   "id": "b889f130-a2b8-4b67-979e-928a667abbba",
   "metadata": {},
   "outputs": [
    {
     "name": "stderr",
     "output_type": "stream",
     "text": [
      "/Users/odanaoki/.anyenv/envs/pyenv/versions/3.10.2/lib/python3.10/site-packages/sklearn/utils/validation.py:993: DataConversionWarning: A column-vector y was passed when a 1d array was expected. Please change the shape of y to (n_samples, ), for example using ravel().\n",
      "  y = column_or_1d(y, warn=True)\n"
     ]
    },
    {
     "data": {
      "text/plain": [
       "LogisticRegression()"
      ]
     },
     "execution_count": 14,
     "metadata": {},
     "output_type": "execute_result"
    }
   ],
   "source": [
    "# 学習モデルを作り、インスタンスを作成\n",
    "from sklearn.linear_model import LogisticRegression\n",
    "lr = LogisticRegression()\n",
    "lr.fit(x_train, y_train)"
   ]
  },
  {
   "cell_type": "code",
   "execution_count": 15,
   "id": "0d417bcb-e8dc-4175-be1e-aef6267aac49",
   "metadata": {},
   "outputs": [],
   "source": [
    "# x_testと、先ほど設定したインスタンスを使って、yを予測\n",
    "y_pred = lr.predict(x_test)"
   ]
  },
  {
   "cell_type": "code",
   "execution_count": 16,
   "id": "775dc8d8-b4bc-4624-b5d0-7f1f27ace517",
   "metadata": {},
   "outputs": [
    {
     "name": "stdout",
     "output_type": "stream",
     "text": [
      "0.9128630705394191\n"
     ]
    }
   ],
   "source": [
    "# 正確さ\n",
    "from sklearn.metrics import accuracy_score\n",
    "print(accuracy_score(y_pred, y_test))"
   ]
  },
  {
   "cell_type": "code",
   "execution_count": 18,
   "id": "718e85a9-9c02-4340-b418-7747662b235b",
   "metadata": {},
   "outputs": [
    {
     "name": "stdout",
     "output_type": "stream",
     "text": [
      "[[208  14]\n",
      " [  7  12]]\n"
     ]
    }
   ],
   "source": [
    "# 混合行列\n",
    "from sklearn.metrics import confusion_matrix\n",
    "print(confusion_matrix(y_pred,y_test))"
   ]
  },
  {
   "cell_type": "markdown",
   "id": "903539e1-3919-4bdf-bd75-1049104ed7bb",
   "metadata": {},
   "source": [
    "①伝説ではない\n",
    "            伝説ではない\n",
    "            伝説だった\n",
    "②伝説だ\n",
    "            伝説だった\n",
    "            伝説でなかった"
   ]
  },
  {
   "cell_type": "code",
   "execution_count": null,
   "id": "6df171c8-6870-4b2b-8820-f2fffaae6dc0",
   "metadata": {},
   "outputs": [],
   "source": []
  }
 ],
 "metadata": {
  "kernelspec": {
   "display_name": "Python 3 (ipykernel)",
   "language": "python",
   "name": "python3"
  },
  "language_info": {
   "codemirror_mode": {
    "name": "ipython",
    "version": 3
   },
   "file_extension": ".py",
   "mimetype": "text/x-python",
   "name": "python",
   "nbconvert_exporter": "python",
   "pygments_lexer": "ipython3",
   "version": "3.10.2"
  }
 },
 "nbformat": 4,
 "nbformat_minor": 5
}
