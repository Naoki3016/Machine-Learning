{
 "cells": [
  {
   "cell_type": "code",
   "execution_count": 36,
   "id": "367820cd-35ce-48ff-b902-61f9979c8521",
   "metadata": {},
   "outputs": [],
   "source": [
    "import numpy as np\n",
    "import pandas as pd\n",
    "import matplotlib.pyplot as plt\n",
    "%matplotlib inline\n",
    "pokemon = pd.read_csv('pokemon.csv')"
   ]
  },
  {
   "cell_type": "code",
   "execution_count": 37,
   "id": "3f644156-61d3-4448-9b0e-9b222489d897",
   "metadata": {},
   "outputs": [
    {
     "data": {
      "text/html": [
       "<div>\n",
       "<style scoped>\n",
       "    .dataframe tbody tr th:only-of-type {\n",
       "        vertical-align: middle;\n",
       "    }\n",
       "\n",
       "    .dataframe tbody tr th {\n",
       "        vertical-align: top;\n",
       "    }\n",
       "\n",
       "    .dataframe thead th {\n",
       "        text-align: right;\n",
       "    }\n",
       "</style>\n",
       "<table border=\"1\" class=\"dataframe\">\n",
       "  <thead>\n",
       "    <tr style=\"text-align: right;\">\n",
       "      <th></th>\n",
       "      <th>pokedex_number</th>\n",
       "      <th>name</th>\n",
       "      <th>japanese_name</th>\n",
       "      <th>base_total</th>\n",
       "      <th>attack</th>\n",
       "      <th>defense</th>\n",
       "      <th>sp_attack</th>\n",
       "      <th>sp_defense</th>\n",
       "      <th>speed</th>\n",
       "      <th>hp</th>\n",
       "      <th>capture_rate</th>\n",
       "      <th>experience_growth</th>\n",
       "      <th>type1</th>\n",
       "      <th>type2</th>\n",
       "      <th>classification</th>\n",
       "      <th>generation</th>\n",
       "      <th>is_legendary</th>\n",
       "      <th>x</th>\n",
       "      <th>y</th>\n",
       "    </tr>\n",
       "  </thead>\n",
       "  <tbody>\n",
       "    <tr>\n",
       "      <th>0</th>\n",
       "      <td>1</td>\n",
       "      <td>Bulbasaur</td>\n",
       "      <td>Fushigidaneフシギダネ</td>\n",
       "      <td>318</td>\n",
       "      <td>49</td>\n",
       "      <td>49</td>\n",
       "      <td>65</td>\n",
       "      <td>65</td>\n",
       "      <td>45</td>\n",
       "      <td>45</td>\n",
       "      <td>45</td>\n",
       "      <td>1059860</td>\n",
       "      <td>grass</td>\n",
       "      <td>poison</td>\n",
       "      <td>Seed Pokémon</td>\n",
       "      <td>1</td>\n",
       "      <td>0</td>\n",
       "      <td>2.002712</td>\n",
       "      <td>-23.850000</td>\n",
       "    </tr>\n",
       "    <tr>\n",
       "      <th>1</th>\n",
       "      <td>2</td>\n",
       "      <td>Ivysaur</td>\n",
       "      <td>Fushigisouフシギソウ</td>\n",
       "      <td>405</td>\n",
       "      <td>62</td>\n",
       "      <td>63</td>\n",
       "      <td>80</td>\n",
       "      <td>80</td>\n",
       "      <td>60</td>\n",
       "      <td>60</td>\n",
       "      <td>45</td>\n",
       "      <td>1059860</td>\n",
       "      <td>grass</td>\n",
       "      <td>poison</td>\n",
       "      <td>Seed Pokémon</td>\n",
       "      <td>1</td>\n",
       "      <td>0</td>\n",
       "      <td>-4.191872</td>\n",
       "      <td>-1.011356</td>\n",
       "    </tr>\n",
       "    <tr>\n",
       "      <th>2</th>\n",
       "      <td>3</td>\n",
       "      <td>Venusaur</td>\n",
       "      <td>Fushigibanaフシギバナ</td>\n",
       "      <td>625</td>\n",
       "      <td>100</td>\n",
       "      <td>123</td>\n",
       "      <td>122</td>\n",
       "      <td>120</td>\n",
       "      <td>80</td>\n",
       "      <td>80</td>\n",
       "      <td>45</td>\n",
       "      <td>1059860</td>\n",
       "      <td>grass</td>\n",
       "      <td>poison</td>\n",
       "      <td>Seed Pokémon</td>\n",
       "      <td>1</td>\n",
       "      <td>0</td>\n",
       "      <td>16.135290</td>\n",
       "      <td>25.569370</td>\n",
       "    </tr>\n",
       "    <tr>\n",
       "      <th>3</th>\n",
       "      <td>4</td>\n",
       "      <td>Charmander</td>\n",
       "      <td>Hitokageヒトカゲ</td>\n",
       "      <td>309</td>\n",
       "      <td>52</td>\n",
       "      <td>43</td>\n",
       "      <td>60</td>\n",
       "      <td>50</td>\n",
       "      <td>65</td>\n",
       "      <td>39</td>\n",
       "      <td>45</td>\n",
       "      <td>1059860</td>\n",
       "      <td>fire</td>\n",
       "      <td>NaN</td>\n",
       "      <td>Lizard Pokémon</td>\n",
       "      <td>1</td>\n",
       "      <td>0</td>\n",
       "      <td>3.716781</td>\n",
       "      <td>-33.844860</td>\n",
       "    </tr>\n",
       "    <tr>\n",
       "      <th>4</th>\n",
       "      <td>5</td>\n",
       "      <td>Charmeleon</td>\n",
       "      <td>Lizardoリザード</td>\n",
       "      <td>405</td>\n",
       "      <td>64</td>\n",
       "      <td>58</td>\n",
       "      <td>80</td>\n",
       "      <td>65</td>\n",
       "      <td>80</td>\n",
       "      <td>58</td>\n",
       "      <td>45</td>\n",
       "      <td>1059860</td>\n",
       "      <td>fire</td>\n",
       "      <td>NaN</td>\n",
       "      <td>Flame Pokémon</td>\n",
       "      <td>1</td>\n",
       "      <td>0</td>\n",
       "      <td>14.146769</td>\n",
       "      <td>-2.513509</td>\n",
       "    </tr>\n",
       "  </tbody>\n",
       "</table>\n",
       "</div>"
      ],
      "text/plain": [
       "   pokedex_number        name     japanese_name  base_total  attack  defense  \\\n",
       "0               1   Bulbasaur  Fushigidaneフシギダネ         318      49       49   \n",
       "1               2     Ivysaur   Fushigisouフシギソウ         405      62       63   \n",
       "2               3    Venusaur  Fushigibanaフシギバナ         625     100      123   \n",
       "3               4  Charmander      Hitokageヒトカゲ         309      52       43   \n",
       "4               5  Charmeleon       Lizardoリザード         405      64       58   \n",
       "\n",
       "   sp_attack  sp_defense  speed  hp  capture_rate  experience_growth  type1  \\\n",
       "0         65          65     45  45            45            1059860  grass   \n",
       "1         80          80     60  60            45            1059860  grass   \n",
       "2        122         120     80  80            45            1059860  grass   \n",
       "3         60          50     65  39            45            1059860   fire   \n",
       "4         80          65     80  58            45            1059860   fire   \n",
       "\n",
       "    type2  classification  generation  is_legendary          x          y  \n",
       "0  poison    Seed Pokémon           1             0   2.002712 -23.850000  \n",
       "1  poison    Seed Pokémon           1             0  -4.191872  -1.011356  \n",
       "2  poison    Seed Pokémon           1             0  16.135290  25.569370  \n",
       "3     NaN  Lizard Pokémon           1             0   3.716781 -33.844860  \n",
       "4     NaN   Flame Pokémon           1             0  14.146769  -2.513509  "
      ]
     },
     "execution_count": 37,
     "metadata": {},
     "output_type": "execute_result"
    }
   ],
   "source": [
    "pokemon.head()"
   ]
  },
  {
   "cell_type": "code",
   "execution_count": 38,
   "id": "b8075504-c1ee-43e9-a0da-81551a29f131",
   "metadata": {},
   "outputs": [
    {
     "data": {
      "text/plain": [
       "(801, 19)"
      ]
     },
     "execution_count": 38,
     "metadata": {},
     "output_type": "execute_result"
    }
   ],
   "source": [
    "pokemon.shape"
   ]
  },
  {
   "cell_type": "code",
   "execution_count": 39,
   "id": "e54a1213-e452-45f0-a1c5-ffa3fb1ec18d",
   "metadata": {},
   "outputs": [],
   "source": [
    "x0=pokemon['attack']\n",
    "x1=pokemon['defense']\n",
    "x2=pokemon['sp_attack']\n",
    "x3=pokemon['sp_defense']\n",
    "x4=pokemon['speed']\n",
    "x5=pokemon['hp']"
   ]
  },
  {
   "cell_type": "code",
   "execution_count": 40,
   "id": "52249609-2550-4199-b7c1-d77c0fcc4239",
   "metadata": {},
   "outputs": [],
   "source": [
    "#偏差値の算出\n",
    "w0=((x0-x0.mean()/x0.std(ddof=0))*10+50)\n",
    "w1=((x1-x1.mean()/x1.std(ddof=0))*10+50)\n",
    "w2=((x2-x2.mean()/x2.std(ddof=0))*10+50)\n",
    "w3=((x3-x3.mean()/x3.std(ddof=0))*10+50)\n",
    "w4=((x4-x4.mean()/x4.std(ddof=0))*10+50)\n",
    "w5=((x5-x5.mean()/x5.std(ddof=0))*10+50)"
   ]
  },
  {
   "cell_type": "code",
   "execution_count": 41,
   "id": "b4813524-2a2a-4f99-907b-fe82afb48008",
   "metadata": {
    "tags": []
   },
   "outputs": [
    {
     "data": {
      "text/plain": [
       "array([[  49.        ,   62.        ,  100.        , ...,  101.        ,\n",
       "         107.        ,   95.        ],\n",
       "       [  49.        ,   63.        ,  123.        , ...,   53.        ,\n",
       "         101.        ,  115.        ],\n",
       "       [  65.        ,   80.        ,  122.        , ...,   97.        ,\n",
       "         127.        ,  130.        ],\n",
       "       ...,\n",
       "       [ 674.60654449,  824.60654449, 1224.60654449, ...,  554.60654449,\n",
       "         914.60654449, 1174.60654449],\n",
       "       [ 477.03860374,  627.03860374,  827.03860374, ...,  457.03860374,\n",
       "         817.03860374,  677.03860374],\n",
       "       [ 474.03602895,  624.03602895,  824.03602895, ..., 2254.03602895,\n",
       "         994.03602895,  824.03602895]])"
      ]
     },
     "execution_count": 41,
     "metadata": {},
     "output_type": "execute_result"
    }
   ],
   "source": [
    "# 特徴量を一つの配列にまとめる\n",
    "x_new = np.vstack([x0,x1,x2,x3,x4,x5,w0,w1,w2,w3,w4,w5])\n",
    "x_new"
   ]
  },
  {
   "cell_type": "code",
   "execution_count": 42,
   "id": "e56e07a9-c3d1-43fd-bf17-31f96cc56d88",
   "metadata": {},
   "outputs": [
    {
     "data": {
      "text/plain": [
       "(12, 801)"
      ]
     },
     "execution_count": 42,
     "metadata": {},
     "output_type": "execute_result"
    }
   ],
   "source": [
    "x_new.shape"
   ]
  },
  {
   "cell_type": "code",
   "execution_count": 43,
   "id": "38142ec0-6f9f-4595-a2b5-364ce2403c3a",
   "metadata": {},
   "outputs": [
    {
     "data": {
      "text/plain": [
       "(801, 12)"
      ]
     },
     "execution_count": 43,
     "metadata": {},
     "output_type": "execute_result"
    }
   ],
   "source": [
    "# 配列の行と列の入れ替え\n",
    "x_new= x_new.T\n",
    "x_new.shape"
   ]
  },
  {
   "cell_type": "code",
   "execution_count": 44,
   "id": "11d1d825-da50-4849-8ec8-97325de1de1e",
   "metadata": {},
   "outputs": [],
   "source": [
    "# attack*sp_attack\n",
    "a1=x0*x2\n",
    "# sp_attack*sp_defense\n",
    "a2=x2*x3\n",
    "# sp_attack*speed\n",
    "a3=x2*x4\n",
    "# attack*speed\n",
    "a4=x0*x4"
   ]
  },
  {
   "cell_type": "code",
   "execution_count": 45,
   "id": "75feae8c-059a-4b27-9400-b0a331ce370a",
   "metadata": {},
   "outputs": [],
   "source": [
    "# 上記の特徴量を追加した配列を作成\n",
    "x_new=np.vstack([x0,x1,x2,x3,x4,x5,w0,w1,w2,w3,w4,w5,a1,a2,a3,a4])"
   ]
  },
  {
   "cell_type": "code",
   "execution_count": 46,
   "id": "83193724-c96b-4b93-a48f-7ce5490ebb07",
   "metadata": {},
   "outputs": [
    {
     "data": {
      "text/plain": [
       "(801, 16)"
      ]
     },
     "execution_count": 46,
     "metadata": {},
     "output_type": "execute_result"
    }
   ],
   "source": [
    "# 配列の行と列の入れ替え\n",
    "x_new = x_new.T\n",
    "x_new.shape"
   ]
  },
  {
   "cell_type": "code",
   "execution_count": 47,
   "id": "152b34f4-659b-40a3-8652-d09d23ed03d2",
   "metadata": {},
   "outputs": [],
   "source": [
    "# データの標準化を行う関数\n",
    "def zscore(x):\n",
    "    xmean=x.mean()\n",
    "    xstd=x.std()\n",
    "    zscore=(x-xmean)/xstd\n",
    "    return zscore"
   ]
  },
  {
   "cell_type": "code",
   "execution_count": 48,
   "id": "1d8886e5-3eb4-4135-9ed4-aa5a5c6c90ce",
   "metadata": {},
   "outputs": [],
   "source": [
    "# データの標準化\n",
    "x0=zscore(x0)\n",
    "x1=zscore(x1)\n",
    "x2=zscore(x2)\n",
    "x3=zscore(x3)\n",
    "x4=zscore(x4)\n",
    "x5=zscore(x5)\n",
    "w0=zscore(w0)\n",
    "w1=zscore(w1)\n",
    "w2=zscore(w2)\n",
    "w3=zscore(w3)\n",
    "w4=zscore(w4)\n",
    "w5=zscore(w5)\n",
    "a1=zscore(a1)\n",
    "a2=zscore(a2)\n",
    "a3=zscore(a3)\n",
    "a4=zscore(a4)"
   ]
  },
  {
   "cell_type": "code",
   "execution_count": 49,
   "id": "d67677c6-62ec-4536-8d48-31af3dc097ed",
   "metadata": {},
   "outputs": [
    {
     "data": {
      "text/plain": [
       "(801, 16)"
      ]
     },
     "execution_count": 49,
     "metadata": {},
     "output_type": "execute_result"
    }
   ],
   "source": [
    "# 標準化後の変数を新たな説明変数とする\n",
    "x_new=np.vstack([x0,x1,x2,x3,x4,x5,w0,w1,w2,w3,w4,w5,a1,a2,a3,a4])\n",
    "x_new=x_new.T\n",
    "x_new.shape"
   ]
  },
  {
   "cell_type": "code",
   "execution_count": 50,
   "id": "7ad4c0a6-547d-4cf4-b96a-6075ee1fbbe7",
   "metadata": {},
   "outputs": [],
   "source": [
    "from sklearn.feature_selection import SelectPercentile\n",
    "# train_test_splitモジュールのインポート\n",
    "from sklearn.model_selection import train_test_split"
   ]
  },
  {
   "cell_type": "code",
   "execution_count": 61,
   "id": "8c6db241-0d7e-43c6-b49d-f3c932ca3d2a",
   "metadata": {
    "tags": []
   },
   "outputs": [
    {
     "data": {
      "text/plain": [
       "0      0\n",
       "1      0\n",
       "2      0\n",
       "3      0\n",
       "4      0\n",
       "      ..\n",
       "796    1\n",
       "797    1\n",
       "798    1\n",
       "799    1\n",
       "800    1\n",
       "Name: is_legendary, Length: 801, dtype: int64"
      ]
     },
     "execution_count": 61,
     "metadata": {},
     "output_type": "execute_result"
    }
   ],
   "source": [
    "pokemon.target = pokemon['is_legendary']\n",
    "pokemon.target"
   ]
  },
  {
   "cell_type": "code",
   "execution_count": 62,
   "id": "d217f850-b920-4478-b45b-ad43656beb8f",
   "metadata": {},
   "outputs": [
    {
     "data": {
      "text/plain": [
       "(801,)"
      ]
     },
     "execution_count": 62,
     "metadata": {},
     "output_type": "execute_result"
    }
   ],
   "source": [
    "pokemon.target.shape"
   ]
  },
  {
   "cell_type": "code",
   "execution_count": 63,
   "id": "2190b702-e6f0-4b8b-99a2-bc777a41a0de",
   "metadata": {},
   "outputs": [],
   "source": [
    "x_train,x_test,y_train,y_test = train_test_split(x_new,pokemon.target,test_size = .3)"
   ]
  },
  {
   "cell_type": "code",
   "execution_count": 64,
   "id": "5c69d66a-820f-425d-89d4-668c0f8dad95",
   "metadata": {},
   "outputs": [],
   "source": [
    "# 特徴量を重要度が高い順に半分の8個までに減らす\n",
    "select=SelectPercentile(percentile = 50)"
   ]
  },
  {
   "cell_type": "code",
   "execution_count": 67,
   "id": "ff9b5d53-96f0-4115-a8f8-fbed307d7ede",
   "metadata": {},
   "outputs": [
    {
     "data": {
      "text/plain": [
       "SelectPercentile(percentile=50)"
      ]
     },
     "execution_count": 67,
     "metadata": {},
     "output_type": "execute_result"
    }
   ],
   "source": [
    "select.fit(x_train,y_train)"
   ]
  },
  {
   "cell_type": "code",
   "execution_count": 69,
   "id": "288be892-a07f-4960-866c-036bec80a881",
   "metadata": {},
   "outputs": [],
   "source": [
    "# 特徴量を減らした場合の説明変数の設定\n",
    "x_train_selected = select.transform(x_train)"
   ]
  },
  {
   "cell_type": "code",
   "execution_count": 70,
   "id": "9edf05a1-6a16-4ceb-973e-b2639d9ce118",
   "metadata": {
    "jupyter": {
     "source_hidden": true
    },
    "tags": []
   },
   "outputs": [
    {
     "name": "stdout",
     "output_type": "stream",
     "text": [
      "x_train.shape: (560, 16)\n",
      "x_train_selected.shape: (560, 8)\n"
     ]
    }
   ],
   "source": [
    "# 特徴量を減らした場合と減らしてない場合のデータの方を確認\n",
    "print(\"x_train.shape: {}\".format(x_train.shape))\n",
    "print(\"x_train_selected.shape: {}\".format(x_train_selected.shape))"
   ]
  },
  {
   "cell_type": "code",
   "execution_count": 73,
   "id": "516a33b4-4044-46c6-8643-6c5eb9934428",
   "metadata": {
    "tags": []
   },
   "outputs": [
    {
     "name": "stdout",
     "output_type": "stream",
     "text": [
      "[False False  True False False  True False False  True False False  True\n",
      "  True  True  True  True]\n"
     ]
    },
    {
     "data": {
      "text/plain": [
       "([], [])"
      ]
     },
     "execution_count": 73,
     "metadata": {},
     "output_type": "execute_result"
    },
    {
     "data": {
      "image/png": "[encoded data removed]",
      "text/plain": [
       "<Figure size 1152x144 with 1 Axes>"
      ]
     },
     "metadata": {
      "needs_background": "light"
     },
     "output_type": "display_data"
    }
   ],
   "source": [
    "# 採用された特徴量をプット\n",
    "mask = select.get_support()\n",
    "print(mask)\n",
    "\n",
    "plt.matshow(mask.reshape(1,-1),cmap='gray_r')\n",
    "plt.xlabel('Index_of_feature')\n",
    "plt.yticks(())"
   ]
  },
  {
   "cell_type": "code",
   "execution_count": 74,
   "id": "e1a34403-a40b-4c8a-ab59-950f293c6298",
   "metadata": {},
   "outputs": [
    {
     "data": {
      "text/plain": [
       "array([[False, False,  True, False, False,  True, False, False,  True,\n",
       "        False, False,  True,  True,  True,  True,  True]])"
      ]
     },
     "execution_count": 74,
     "metadata": {},
     "output_type": "execute_result"
    }
   ],
   "source": [
    "# 採用された特徴量を配列から見る\n",
    "mask.reshape(1,-1)"
   ]
  },
  {
   "cell_type": "code",
   "execution_count": 78,
   "id": "3dcf9cc5-9d9b-45ef-bfc3-c527953284bc",
   "metadata": {},
   "outputs": [
    {
     "name": "stdout",
     "output_type": "stream",
     "text": [
      "score with all features: 0.925\n"
     ]
    }
   ],
   "source": [
    "# 特徴量の個数による正答率の誤差を測定\n",
    "# 特徴量を減らさなかったときの場合のロジスティック回帰\n",
    "from sklearn.linear_model import LogisticRegression\n",
    "x_test_selected = select.transform(x_test)\n",
    "\n",
    "lr=LogisticRegression()\n",
    "lr.fit(x_train,y_train)\n",
    "\n",
    "print(\"score with all features: {:.3f}\".format(lr.score(x_test,y_test)))"
   ]
  },
  {
   "cell_type": "code",
   "execution_count": 79,
   "id": "a75b435c-4089-4d25-84c3-cf4f3931b409",
   "metadata": {},
   "outputs": [
    {
     "data": {
      "text/plain": [
       "array([[214,   4],\n",
       "       [ 14,   9]])"
      ]
     },
     "execution_count": 79,
     "metadata": {},
     "output_type": "execute_result"
    }
   ],
   "source": [
    "# 特徴量を減らさなかったときの混合行列\n",
    "y_p = lr.predict(x_test)\n",
    "from sklearn.metrics import confusion_matrix\n",
    "confusion_matrix(y_test,y_p)"
   ]
  },
  {
   "cell_type": "code",
   "execution_count": 80,
   "id": "630716fd-6ff6-4db3-af54-cba9dd88c0f7",
   "metadata": {},
   "outputs": [
    {
     "name": "stdout",
     "output_type": "stream",
     "text": [
      "score with all features: 0.917\n"
     ]
    }
   ],
   "source": [
    "# 特徴量を減らした際の結果\n",
    "lr.fit(x_train_selected,y_train)\n",
    "print(\"score with all features: {:.3f}\".format(lr.score(x_test_selected,y_test)))"
   ]
  },
  {
   "cell_type": "code",
   "execution_count": 81,
   "id": "fc8c215d-db57-44a8-bb26-3056d88d9a90",
   "metadata": {},
   "outputs": [
    {
     "data": {
      "text/plain": [
       "array([[214,   4],\n",
       "       [ 16,   7]])"
      ]
     },
     "execution_count": 81,
     "metadata": {},
     "output_type": "execute_result"
    }
   ],
   "source": [
    "y_p = lr.predict(x_test_selected)\n",
    "from sklearn.metrics import confusion_matrix\n",
    "confusion_matrix(y_test,y_p)"
   ]
  }
 ],
 "metadata": {
  "kernelspec": {
   "display_name": "Python 3 (ipykernel)",
   "language": "python",
   "name": "python3"
  },
  "language_info": {
   "codemirror_mode": {
    "name": "ipython",
    "version": 3
   },
   "file_extension": ".py",
   "mimetype": "text/x-python",
   "name": "python",
   "nbconvert_exporter": "python",
   "pygments_lexer": "ipython3",
   "version": "3.10.2"
  }
 },
 "nbformat": 4,
 "nbformat_minor": 5
}
