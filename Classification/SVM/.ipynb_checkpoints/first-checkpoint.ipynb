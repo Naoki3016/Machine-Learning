{
 "cells": [
  {
   "cell_type": "code",
   "execution_count": 2,
   "id": "2cb374c4-4613-487a-a80f-2333235092f7",
   "metadata": {
    "tags": []
   },
   "outputs": [],
   "source": [
    "# numpyとデータセットの読み込み\n",
    "import numpy as np\n",
    "from sklearn.datasets import load_iris"
   ]
  },
  {
   "cell_type": "code",
   "execution_count": 14,
   "id": "1499c946-5186-44e6-8730-f2ceaec7e816",
   "metadata": {
    "collapsed": true,
    "jupyter": {
     "outputs_hidden": true
    },
    "tags": []
   },
   "outputs": [
    {
     "name": "stdout",
     "output_type": "stream",
     "text": [
      "['sepal length (cm)', 'sepal width (cm)', 'petal length (cm)', 'petal width (cm)']\n"
     ]
    }
   ],
   "source": [
    "iris = load_iris()\n",
    "print(iris.feature_names)\n",
    "# Petal Length(花びらの長さ), Petal Width(花びらの幅)の取得\n",
    "x = iris.data[:,[2,3]]"
   ]
  },
  {
   "cell_type": "code",
   "execution_count": 17,
   "id": "c3ddf387-0fab-47bf-af36-a39891d54817",
   "metadata": {
    "collapsed": true,
    "jupyter": {
     "outputs_hidden": true
    },
    "tags": []
   },
   "outputs": [
    {
     "data": {
      "text/plain": [
       "(150, 2)"
      ]
     },
     "execution_count": 17,
     "metadata": {},
     "output_type": "execute_result"
    }
   ],
   "source": [
    "#行数と列数の確認\n",
    "x.shape"
   ]
  },
  {
   "cell_type": "code",
   "execution_count": 19,
   "id": "c0da3551-ef71-4fa4-9a3c-9f4000eb1be4",
   "metadata": {
    "collapsed": true,
    "jupyter": {
     "outputs_hidden": true
    },
    "tags": []
   },
   "outputs": [
    {
     "name": "stdout",
     "output_type": "stream",
     "text": [
      "(100, 2)\n",
      "(100,)\n"
     ]
    }
   ],
   "source": [
    "# 下から百個のデータ\n",
    "x = x[0:100]\n",
    "y = iris.target[0:100]\n",
    "print(x.shape)\n",
    "print(y.shape)"
   ]
  },
  {
   "cell_type": "code",
   "execution_count": 27,
   "id": "929b0f72-fcc8-41cb-85bc-cc1f1d648262",
   "metadata": {},
   "outputs": [],
   "source": [
    "# データセットの分割,random_state->通常であれば、毎回違う乱数で実行されるが、これを記述すれば2回目以降の乱数を、1回目と同じ乱数で処理できる\n",
    "from sklearn.model_selection import train_test_split\n",
    "x_train, x_test, y_train, y_test = train_test_split(x, y, test_size = 0.3, random_state = 1)"
   ]
  },
  {
   "cell_type": "code",
   "execution_count": 28,
   "id": "66252b93-1bab-47bd-96e7-3e5862772ae2",
   "metadata": {
    "collapsed": true,
    "jupyter": {
     "outputs_hidden": true
    },
    "tags": []
   },
   "outputs": [
    {
     "name": "stdout",
     "output_type": "stream",
     "text": [
      "(70, 2)\n",
      "(70,)\n",
      "(30, 2)\n",
      "(30,)\n"
     ]
    }
   ],
   "source": [
    "print(x_train.shape)\n",
    "print(y_train.shape)\n",
    "print(x_test.shape)\n",
    "print(y_test.shape)"
   ]
  },
  {
   "cell_type": "code",
   "execution_count": 30,
   "id": "4a1cc85b-f331-4320-960f-6a6a6326428c",
   "metadata": {},
   "outputs": [],
   "source": [
    "# svmモデルの読み込み\n",
    "from sklearn.svm import SVC"
   ]
  },
  {
   "cell_type": "code",
   "execution_count": 33,
   "id": "7565b1ea-ae77-49ca-bfa0-faa027915de6",
   "metadata": {},
   "outputs": [],
   "source": [
    "# インスタンスの作成。線形分離を行うため、linearを指定\n",
    "svm = SVC(kernel='linear')"
   ]
  },
  {
   "cell_type": "code",
   "execution_count": 34,
   "id": "3e06a82d-704e-4b9f-beda-b3997ab64d49",
   "metadata": {
    "collapsed": true,
    "jupyter": {
     "outputs_hidden": true
    },
    "tags": []
   },
   "outputs": [
    {
     "data": {
      "text/plain": [
       "SVC(kernel='linear')"
      ]
     },
     "execution_count": 34,
     "metadata": {},
     "output_type": "execute_result"
    }
   ],
   "source": [
    "# svmのモデルにトレーニングデータを適合させる\n",
    "svm.fit(x_train, y_train)"
   ]
  },
  {
   "cell_type": "code",
   "execution_count": 36,
   "id": "efbf1056-caea-4497-8e65-c03be80aebbd",
   "metadata": {
    "tags": []
   },
   "outputs": [
    {
     "name": "stdout",
     "output_type": "stream",
     "text": [
      "正答率 1.0\n"
     ]
    }
   ],
   "source": [
    "# 予測と正解率\n",
    "from sklearn.metrics import accuracy_score\n",
    "y_pred = svm.predict(x_test)\n",
    "print('正答率', accuracy_score(y_test, y_pred))"
   ]
  },
  {
   "cell_type": "code",
   "execution_count": 37,
   "id": "de4246b9-1319-4c44-b91c-57e26881dfc0",
   "metadata": {
    "collapsed": true,
    "jupyter": {
     "outputs_hidden": true
    },
    "tags": []
   },
   "outputs": [
    {
     "data": {
      "text/plain": [
       "<matplotlib.legend.Legend at 0x143421b40>"
      ]
     },
     "execution_count": 37,
     "metadata": {},
     "output_type": "execute_result"
    },
    {
     "data": {
      "image/png": "[encoded data removed]",
      "text/plain": [
       "<Figure size 432x288 with 1 Axes>"
      ]
     },
     "metadata": {
      "needs_background": "light"
     },
     "output_type": "display_data"
    }
   ],
   "source": [
    "# 散布図の描写\n",
    "import matplotlib.pyplot as plt\n",
    "%matplotlib inline\n",
    "plt.scatter(x[:50,0],x[:50, 1],color = 'blue',label ='setosa', marker = 'o')\n",
    "plt.scatter(x[50:100,0], x[50:100,1],color = 'red', label = 'versicolor', marker='o')\n",
    "plt.legend()"
   ]
  },
  {
   "cell_type": "code",
   "execution_count": 42,
   "id": "ce96378f-a8a5-483a-8822-6a7a0ea2bfcb",
   "metadata": {},
   "outputs": [],
   "source": [
    "# データの最小値、最大値の設定\n",
    "x_min,x_max = x[:,0].min(),x[:,0].max()\n",
    "y_min,y_max = x[:,1].min(),x[:,1].max()"
   ]
  },
  {
   "cell_type": "code",
   "execution_count": 48,
   "id": "6564f02d-88d3-4dbc-aad2-0b2d4fa3fe8b",
   "metadata": {},
   "outputs": [
    {
     "name": "stdout",
     "output_type": "stream",
     "text": [
      "(170, 410)\n",
      "(170, 410)\n"
     ]
    }
   ],
   "source": [
    "# 二次元のグリッド座標を作成する準備。配列の作成\n",
    "x_axis,y_axis = np.meshgrid(np.arange(x_min, x_max, 0.01), np.arange(y_min, y_max, 0.01))\n",
    "print(x_axis.shape)\n",
    "print(y_axis.shape)"
   ]
  },
  {
   "cell_type": "code",
   "execution_count": 54,
   "id": "f593b560-6ec1-4b03-aaf6-4ea16baa107e",
   "metadata": {},
   "outputs": [
    {
     "data": {
      "text/plain": [
       "69700"
      ]
     },
     "execution_count": 54,
     "metadata": {},
     "output_type": "execute_result"
    }
   ],
   "source": [
    "# x_axis,y_axisの要素を１列に並べる作業、行と列から要素の数を計算する\n",
    "data_num = x_axis.shape[0] * x_axis.shape[1]\n",
    "data_num"
   ]
  },
  {
   "cell_type": "code",
   "execution_count": 55,
   "id": "c4a39be2-09a3-425f-972f-860f4c5b71b2",
   "metadata": {},
   "outputs": [
    {
     "name": "stdout",
     "output_type": "stream",
     "text": [
      "(69700, 2)\n"
     ]
    }
   ],
   "source": [
    "# xをyを一列にし、一つの配列として連結させる\n",
    "grid_points = np.concatenate((x_axis.reshape(data_num, 1),y_axis.reshape(date_num, 1)),axis = 1)\n",
    "print(grid_points.shape)"
   ]
  },
  {
   "cell_type": "code",
   "execution_count": 56,
   "id": "58b990c7-cac8-492e-9da8-653167431321",
   "metadata": {},
   "outputs": [],
   "source": [
    "# 予測\n",
    "class_labels = svm.predict(grid_points)"
   ]
  },
  {
   "cell_type": "code",
   "execution_count": 58,
   "id": "4f901ede-92dd-46fc-a66d-fa75888b9896",
   "metadata": {},
   "outputs": [
    {
     "name": "stdout",
     "output_type": "stream",
     "text": [
      "(170, 410)\n"
     ]
    }
   ],
   "source": [
    "#　　座標上に表現するために、格子に合わせて行と列を調整\n",
    "class_labels = class_labels.reshape(x_axis.shape)\n",
    "print(class_labels.shape)"
   ]
  },
  {
   "cell_type": "code",
   "execution_count": 62,
   "id": "4708d7ee-7174-4ef5-a737-c4a17ace62d6",
   "metadata": {},
   "outputs": [
    {
     "name": "stderr",
     "output_type": "stream",
     "text": [
      "*c* argument looks like a single numeric RGB or RGBA sequence, which should be avoided as value-mapping will have precedence in case its length matches with *x* & *y*.  Please use the *color* keyword-argument or provide a 2D array with a single row if you intend to specify the same RGB or RGBA value for all points.\n",
      "*c* argument looks like a single numeric RGB or RGBA sequence, which should be avoided as value-mapping will have precedence in case its length matches with *x* & *y*.  Please use the *color* keyword-argument or provide a 2D array with a single row if you intend to specify the same RGB or RGBA value for all points.\n"
     ]
    },
    {
     "data": {
      "image/png": "[encoded data removed]",
      "text/plain": [
       "<Figure size 432x288 with 1 Axes>"
      ]
     },
     "metadata": {
      "needs_background": "light"
     },
     "output_type": "display_data"
    }
   ],
   "source": [
    "# 可視化に必要なライブラリをインポート\n",
    "from matplotlib.colors import ListedColormap\n",
    "import matplotlib.pyplot as plt\n",
    "%matplotlib inline\n",
    "# マーカーの準備\n",
    "markers = ('o', '^')\n",
    "# 色を用意\n",
    "colors = ('red', 'lightgreen')\n",
    "# 指定した数の色を使ったカラーマップを作成 ,インスタンスの作成\n",
    "cmap = ListedColormap(colors)\n",
    "# アヤメの種類を格納\n",
    "labels = ('setosa', 'versicolor')\n",
    "# トレーニングデータのプロット\n",
    "for i, n in enumerate(np.unique(y)):\n",
    "    plt.scatter(x=x_train[y_train == n, 0],\n",
    "                y=x_train[y_train == n, 1],\n",
    "                c=cmap(i),\n",
    "                marker=markers[i],\n",
    "                s=70,\n",
    "                edgecolors='none',\n",
    "                label=labels[i])\n",
    "# 凡例を表示 \n",
    "plt.legend(loc='lower right')\n",
    "plt.xlim(x_axis.min(), x_axis.max())\n",
    "plt.ylim(y_axis.min(), y_axis.max())\n",
    "# contourf関数を使って、領域を塗りつぶす\n",
    "plt.contourf(x_axis, y_axis, class_labels, alpha=0.3, cmap='jet')\n",
    "# 軸ラベル\n",
    "plt.xlabel('Petal Length')\n",
    "plt.ylabel('Petal Width')\n",
    "plt.show()"
   ]
  },
  {
   "cell_type": "code",
   "execution_count": null,
   "id": "35620432-931d-46ff-9332-07eddaf19548",
   "metadata": {},
   "outputs": [],
   "source": []
  }
 ],
 "metadata": {
  "kernelspec": {
   "display_name": "Python 3 (ipykernel)",
   "language": "python",
   "name": "python3"
  },
  "language_info": {
   "codemirror_mode": {
    "name": "ipython",
    "version": 3
   },
   "file_extension": ".py",
   "mimetype": "text/x-python",
   "name": "python",
   "nbconvert_exporter": "python",
   "pygments_lexer": "ipython3",
   "version": "3.10.2"
  }
 },
 "nbformat": 4,
 "nbformat_minor": 5
}
