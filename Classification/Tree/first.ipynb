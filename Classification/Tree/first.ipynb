{
 "cells": [
  {
   "cell_type": "code",
   "execution_count": 1,
   "id": "0eaad939-8853-4d0c-8666-fa42df7c65dd",
   "metadata": {},
   "outputs": [],
   "source": [
    "import numpy as np\n",
    "from sklearn import datasets\n",
    "from sklearn.model_selection import train_test_split"
   ]
  },
  {
   "cell_type": "code",
   "execution_count": 2,
   "id": "50d8a410-76b3-446f-a807-4060d6f8cf1d",
   "metadata": {},
   "outputs": [],
   "source": [
    "iris = datasets.load_iris()"
   ]
  },
  {
   "cell_type": "code",
   "execution_count": 7,
   "id": "888f87dd-e24e-4050-b6e9-d6c5da01448c",
   "metadata": {},
   "outputs": [],
   "source": [
    "# petal length,petal widthを使って予測\n",
    "x = iris.data[:,[2,3]]\n",
    "y = iris.target\n",
    "x_train, x_test,y_train,y_test = train_test_split(x,y,test_size = 0.3)"
   ]
  },
  {
   "cell_type": "code",
   "execution_count": 10,
   "id": "3f83e598-f39a-4ffd-a4d5-8fcc1c955cae",
   "metadata": {},
   "outputs": [],
   "source": [
    "# 座標の準備.x座標は長さ、y座標は幅。\n",
    "x_min,x_max = x[:,0].min()-1, x[:,0].max() + 1\n",
    "y_min,y_max = x[:,1].min()-1, x[:,1].max() + 1\n",
    "# 配列(等間隔の座標の点)を作り、格子の作成。また、同時に軸の定義\n",
    "x_axis,y_axis = np.meshgrid(np.arange(x_min,x_max,0.02), np.arange(x_min,x_max,0.02))"
   ]
  },
  {
   "cell_type": "code",
   "execution_count": 11,
   "id": "3b0c49b5-9114-40a9-b3be-9048626b9279",
   "metadata": {
    "collapsed": true,
    "jupyter": {
     "outputs_hidden": true
    },
    "tags": []
   },
   "outputs": [
    {
     "name": "stdout",
     "output_type": "stream",
     "text": [
      "(220, 395)\n",
      "(220, 395)\n"
     ]
    }
   ],
   "source": [
    "print(x_axis.shape)\n",
    "print(y_axis.shape)"
   ]
  },
  {
   "cell_type": "code",
   "execution_count": 13,
   "id": "9fa5f4e5-248e-4810-9e9b-6be1dbb4ddaa",
   "metadata": {
    "collapsed": true,
    "jupyter": {
     "outputs_hidden": true
    },
    "tags": []
   },
   "outputs": [
    {
     "name": "stdout",
     "output_type": "stream",
     "text": [
      "86900\n"
     ]
    }
   ],
   "source": [
    "# x_axisとy_axisの要素を1行にまとめるために組み合わせの数を計算\n",
    "total = x_axis.shape[0] * x_axis.shape[1]\n",
    "print(total)"
   ]
  },
  {
   "cell_type": "code",
   "execution_count": 17,
   "id": "0fbbc92d-2840-4e45-984c-a8b4b850f8fa",
   "metadata": {
    "collapsed": true,
    "jupyter": {
     "outputs_hidden": true
    },
    "tags": []
   },
   "outputs": [
    {
     "name": "stdout",
     "output_type": "stream",
     "text": [
      "(86900, 2)\n"
     ]
    }
   ],
   "source": [
    "# 一次元配列にしたものを組み合わせて二次元配列を作成\n",
    "grid_points = np.concatenate((x_axis.reshape(total,1),y_axis.reshape(total,1)),axis = 1)\n",
    "print(grid_points.shape)"
   ]
  },
  {
   "cell_type": "code",
   "execution_count": 19,
   "id": "a061f1a8-cbfb-419d-aed1-c78cbcca6092",
   "metadata": {},
   "outputs": [],
   "source": [
    "# 決定木モデルの読み込み\n",
    "from sklearn.tree import DecisionTreeClassifier\n",
    "tree = DecisionTreeClassifier(criterion = \"entropy\", max_depth = 3)"
   ]
  },
  {
   "cell_type": "code",
   "execution_count": 20,
   "id": "c1d3aabf-55ee-4768-a822-16e60c9a64fa",
   "metadata": {
    "collapsed": true,
    "jupyter": {
     "outputs_hidden": true
    },
    "tags": []
   },
   "outputs": [
    {
     "data": {
      "text/plain": [
       "DecisionTreeClassifier(criterion='entropy', max_depth=3)"
      ]
     },
     "execution_count": 81,
     "metadata": {},
     "output_type": "execute_result"
    }
   ],
   "source": [
    "tree.fit(x_train, y_train)"
   ]
  },
  {
   "cell_type": "code",
   "execution_count": 21,
   "id": "e575d61e-c9c9-4f54-af14-2edb36e03679",
   "metadata": {},
   "outputs": [],
   "source": [
    "# 一次元配列にして二次元配列にしたデータで検証を行う\n",
    "pred_label = tree.predict(grid_points)"
   ]
  },
  {
   "cell_type": "code",
   "execution_count": 24,
   "id": "2c8faef3-ccc0-4f86-b98a-cd4852d45e64",
   "metadata": {
    "collapsed": true,
    "jupyter": {
     "outputs_hidden": true
    },
    "tags": []
   },
   "outputs": [
    {
     "name": "stdout",
     "output_type": "stream",
     "text": [
      "(220, 395)\n"
     ]
    }
   ],
   "source": [
    "# 検証結果は一次元なので、グラフにプロットするために二次元に戻す\n",
    "pred_label = pred_label.reshape(x_axis.shape)\n",
    "print(pred_label.shape)"
   ]
  },
  {
   "cell_type": "code",
   "execution_count": 87,
   "id": "6dbf9596-60ee-43a4-ad1d-0d8fdb5f9dc1",
   "metadata": {},
   "outputs": [
    {
     "name": "stderr",
     "output_type": "stream",
     "text": [
      "*c* argument looks like a single numeric RGB or RGBA sequence, which should be avoided as value-mapping will have precedence in case its length matches with *x* & *y*.  Please use the *color* keyword-argument or provide a 2D array with a single row if you intend to specify the same RGB or RGBA value for all points.\n",
      "*c* argument looks like a single numeric RGB or RGBA sequence, which should be avoided as value-mapping will have precedence in case its length matches with *x* & *y*.  Please use the *color* keyword-argument or provide a 2D array with a single row if you intend to specify the same RGB or RGBA value for all points.\n",
      "*c* argument looks like a single numeric RGB or RGBA sequence, which should be avoided as value-mapping will have precedence in case its length matches with *x* & *y*.  Please use the *color* keyword-argument or provide a 2D array with a single row if you intend to specify the same RGB or RGBA value for all points.\n",
      "/var/folders/wt/r7zhl_jn7pnb6hv_zm0545k40000gn/T/ipykernel_74043/1153887839.py:13: UserWarning: You passed a edgecolor/edgecolors ('white') for an unfilled marker ('x').  Matplotlib is ignoring the edgecolor in favor of the facecolor.  This behavior may change in the future.\n",
      "  plt.scatter(x=x_train[y_train == n, 0],\n"
     ]
    },
    {
     "data": {
      "text/plain": [
       "Text(0, 0.5, 'Petal Width')"
      ]
     },
     "execution_count": 87,
     "metadata": {},
     "output_type": "execute_result"
    },
    {
     "data": {
      "image/png": "[encoded data removed]",
      "text/plain": [
       "<Figure size 432x288 with 1 Axes>"
      ]
     },
     "metadata": {
      "needs_background": "light"
     },
     "output_type": "display_data"
    }
   ],
   "source": [
    "# 予測結果のグラフ化\n",
    "from matplotlib.colors import ListedColormap\n",
    "import matplotlib.pyplot as plt\n",
    "%matplotlib inline\n",
    "\n",
    "markers = ('o', '^', 'x')\n",
    "\n",
    "colors = ('red', 'lightgreen', 'cyan')\n",
    "\n",
    "cmap = ListedColormap(colors)\n",
    "\n",
    "for i,n in enumerate(np.unique(y)):\n",
    "    plt.scatter(x=x_train[y_train == n, 0],\n",
    "                y=x_train[y_train == n, 1],\n",
    "                c=cmap(i),\n",
    "                marker=markers[i],\n",
    "                s = 70, \n",
    "                edgecolors='white',\n",
    "                label=n)\n",
    "    \n",
    "plt.scatter(x_test[:, 0],\n",
    "            x_test[:, 1],\n",
    "            c='k',\n",
    "            marker='v',\n",
    "            label='test data')\n",
    "\n",
    "plt.xlim(x_axis.min(), x_axis.max())\n",
    "plt.ylim(y_axis.min(), y_axis.max())\n",
    "\n",
    "plt.contourf(x_axis, y_axis, pred_label, alpha=0.3, cmap=cmap)\n",
    "\n",
    "plt.legend(loc='lower right')\n",
    "plt.xlabel('Petal Length') \n",
    "plt.ylabel('Petal Width')"
   ]
  },
  {
   "cell_type": "code",
   "execution_count": 91,
   "id": "7c25a08e-42ca-4483-a90d-61ce8d5de88a",
   "metadata": {},
   "outputs": [
    {
     "name": "stdout",
     "output_type": "stream",
     "text": [
      "zsh:1: command not found: dot\n"
     ]
    }
   ],
   "source": [
    "from sklearn.tree import export_graphviz \n",
    "export_graphviz(tree, out_file=\"Tree.dot\",\n",
    "                feature_names=[\"petal length\", \"petal width\"]) \n",
    "!dot -T png Tree.dot -o tree.png"
   ]
  },
  {
   "cell_type": "code",
   "execution_count": null,
   "id": "4671e02f-07cb-47af-8f3f-491228f0c7d8",
   "metadata": {},
   "outputs": [],
   "source": []
  }
 ],
 "metadata": {
  "kernelspec": {
   "display_name": "Python 3 (ipykernel)",
   "language": "python",
   "name": "python3"
  },
  "language_info": {
   "codemirror_mode": {
    "name": "ipython",
    "version": 3
   },
   "file_extension": ".py",
   "mimetype": "text/x-python",
   "name": "python",
   "nbconvert_exporter": "python",
   "pygments_lexer": "ipython3",
   "version": "3.10.2"
  }
 },
 "nbformat": 4,
 "nbformat_minor": 5
}
