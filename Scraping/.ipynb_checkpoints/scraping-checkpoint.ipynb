{
 "cells": [
  {
   "cell_type": "code",
   "execution_count": 4,
   "id": "08c3493d-656e-46c1-bec0-1ea225d5a4cf",
   "metadata": {},
   "outputs": [
    {
     "name": "stdout",
     "output_type": "stream",
     "text": [
      "TEST1\n",
      "TEST2\n",
      "TEST3\n"
     ]
    }
   ],
   "source": [
    "# ライブラリのインポート\n",
    "import requests\n",
    "from bs4 import BeautifulSoup\n",
    "\n",
    "# htmlの情報を収集\n",
    "url = \"https://app-mooovi2021.herokuapp.com/works/initial_scraping\"\n",
    "html= requests.get(url)\n",
    "\n",
    "# textをlxmlで解析し、プログラミングで使えるように。また、pタグの取得\n",
    "soup=BeautifulSoup(html.text,'lxml')\n",
    "elements=soup.find_all('p')\n",
    "\n",
    "# pタグのテキスト部分のみをfor文を使って表示させる\n",
    "for element in elements:\n",
    "    print(element.get_text())\n"
   ]
  }
 ],
 "metadata": {
  "kernelspec": {
   "display_name": "Python 3 (ipykernel)",
   "language": "python",
   "name": "python3"
  },
  "language_info": {
   "codemirror_mode": {
    "name": "ipython",
    "version": 3
   },
   "file_extension": ".py",
   "mimetype": "text/x-python",
   "name": "python",
   "nbconvert_exporter": "python",
   "pygments_lexer": "ipython3",
   "version": "3.10.2"
  }
 },
 "nbformat": 4,
 "nbformat_minor": 5
}
