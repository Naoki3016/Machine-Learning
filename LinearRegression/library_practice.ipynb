{
 "cells": [
  {
   "cell_type": "code",
   "execution_count": 2,
   "id": "133ac2c6",
   "metadata": {},
   "outputs": [
    {
     "name": "stdout",
     "output_type": "stream",
     "text": [
      "[ 1  2  3  4  5  6  7  8  9 10]\n"
     ]
    }
   ],
   "source": [
    "import numpy as np\n",
    "x = np.arange(1,11)\n",
    "print(x)"
   ]
  },
  {
   "cell_type": "code",
   "execution_count": 1,
   "id": "69856279",
   "metadata": {},
   "outputs": [
    {
     "name": "stdout",
     "output_type": "stream",
     "text": [
      "Collecting numpy\n",
      "  Downloading numpy-1.22.2-cp310-cp310-macosx_11_0_arm64.whl (12.8 MB)\n",
      "\u001b[2K     \u001b[38;2;114;156;31m━━━━━━━━━━━━━━━━━━━━━━━━━━━━━━━━━━━━━━━━\u001b[0m \u001b[32m12.8/12.8 MB\u001b[0m \u001b[31m10.9 MB/s\u001b[0m eta \u001b[36m0:00:00\u001b[0mm eta \u001b[36m0:00:01\u001b[0m[36m0:00:01\u001b[0m\n",
      "\u001b[?25hInstalling collected packages: numpy\n",
      "Successfully installed numpy-1.22.2\n"
     ]
    }
   ],
   "source": [
    "!pip install numpy"
   ]
  },
  {
   "cell_type": "code",
   "execution_count": 5,
   "id": "7f9f871d",
   "metadata": {},
   "outputs": [
    {
     "name": "stdout",
     "output_type": "stream",
     "text": [
      "[ 1  2  3  4  5  6  7  8  9 10 11 12 13 14 15 16 17 18 19 20 21 22 23 24\n",
      " 25 26 27 28 29 30]\n"
     ]
    }
   ],
   "source": [
    "import numpy as np\n",
    "x = np.arange(1,31)\n",
    "print(x)"
   ]
  },
  {
   "cell_type": "code",
   "execution_count": 7,
   "id": "d6749e0a",
   "metadata": {},
   "outputs": [
    {
     "name": "stdout",
     "output_type": "stream",
     "text": [
      "[1. 2. 3. 4. 5.] [ 6.  7.  8.  9. 10.]\n",
      "[ 1.  2.  3.  4.  5.  6.  7.  8.  9. 10.]\n"
     ]
    }
   ],
   "source": [
    "x = np.linspace(start=1,stop=5,num=5)\n",
    "y = np.linspace(start=6,stop=10,num=5)\n",
    "print(x,y)\n",
    "z = np.concatenate([x,y])\n",
    "print(z)"
   ]
  },
  {
   "cell_type": "code",
   "execution_count": 9,
   "id": "36b4e88a",
   "metadata": {},
   "outputs": [
    {
     "name": "stdout",
     "output_type": "stream",
     "text": [
      "[ 1.  2.  3.  4.  5.  6.  7.  8.  9. 10. 11. 12. 13. 14. 15. 16. 17. 18.\n",
      " 19. 20.]\n",
      "20.0\n",
      "1.0\n"
     ]
    }
   ],
   "source": [
    "x = np.linspace(1,20,20)\n",
    "print(x)\n",
    "print(x.max())\n",
    "print(x.min())"
   ]
  },
  {
   "cell_type": "code",
   "execution_count": 10,
   "id": "ee738d04",
   "metadata": {},
   "outputs": [
    {
     "name": "stdout",
     "output_type": "stream",
     "text": [
      "50.5\n",
      "5050.0\n",
      "28.86607004772212\n"
     ]
    }
   ],
   "source": [
    "x = np.linspace(1,100,100)\n",
    "print(x.mean())\n",
    "print(x.sum())\n",
    "print(x.std())"
   ]
  },
  {
   "cell_type": "code",
   "execution_count": 14,
   "id": "580eedae",
   "metadata": {},
   "outputs": [],
   "source": [
    "import matplotlib.pyplot as plt\n",
    "%matplotlib inline"
   ]
  },
  {
   "cell_type": "code",
   "execution_count": 12,
   "id": "a0655c50",
   "metadata": {},
   "outputs": [
    {
     "name": "stdout",
     "output_type": "stream",
     "text": [
      "Collecting matplotlib\n",
      "  Downloading matplotlib-3.5.1-cp310-cp310-macosx_11_0_arm64.whl (7.2 MB)\n",
      "\u001b[2K     \u001b[38;2;114;156;31m━━━━━━━━━━━━━━━━━━━━━━━━━━━━━━━━━━━━━━━━\u001b[0m \u001b[32m7.2/7.2 MB\u001b[0m \u001b[31m7.0 MB/s\u001b[0m eta \u001b[36m0:00:00\u001b[0mm eta \u001b[36m0:00:01\u001b[0m[36m0:00:01\u001b[0m\n",
      "\u001b[?25hCollecting kiwisolver>=1.0.1\n",
      "  Downloading kiwisolver-1.3.2-cp310-cp310-macosx_11_0_arm64.whl (59 kB)\n",
      "\u001b[2K     \u001b[38;2;114;156;31m━━━━━━━━━━━━━━━━━━━━━━━━━━━━━━━━━━━━━━━━\u001b[0m \u001b[32m59.4/59.4 KB\u001b[0m \u001b[31m2.0 MB/s\u001b[0m eta \u001b[36m0:00:00\u001b[0m\n",
      "\u001b[?25hRequirement already satisfied: packaging>=20.0 in /Users/odanaoki/.anyenv/envs/pyenv/versions/3.10.2/lib/python3.10/site-packages (from matplotlib) (21.3)\n",
      "Collecting pillow>=6.2.0\n",
      "  Downloading Pillow-9.0.1-1-cp310-cp310-macosx_11_0_arm64.whl (2.7 MB)\n",
      "\u001b[2K     \u001b[38;2;114;156;31m━━━━━━━━━━━━━━━━━━━━━━━━━━━━━━━━━━━━━━━━\u001b[0m \u001b[32m2.7/2.7 MB\u001b[0m \u001b[31m6.2 MB/s\u001b[0m eta \u001b[36m0:00:00\u001b[0mm eta \u001b[36m0:00:01\u001b[0m[36m0:00:01\u001b[0m\n",
      "\u001b[?25hCollecting cycler>=0.10\n",
      "  Downloading cycler-0.11.0-py3-none-any.whl (6.4 kB)\n",
      "Requirement already satisfied: pyparsing>=2.2.1 in /Users/odanaoki/.anyenv/envs/pyenv/versions/3.10.2/lib/python3.10/site-packages (from matplotlib) (3.0.7)\n",
      "Collecting fonttools>=4.22.0\n",
      "  Downloading fonttools-4.29.1-py3-none-any.whl (895 kB)\n",
      "\u001b[2K     \u001b[38;2;114;156;31m━━━━━━━━━━━━━━━━━━━━━━━━━━━━━━━━━━━━━━━\u001b[0m \u001b[32m895.5/895.5 KB\u001b[0m \u001b[31m6.0 MB/s\u001b[0m eta \u001b[36m0:00:00\u001b[0m MB/s\u001b[0m eta \u001b[36m0:00:01\u001b[0m\n",
      "\u001b[?25hRequirement already satisfied: numpy>=1.17 in /Users/odanaoki/.anyenv/envs/pyenv/versions/3.10.2/lib/python3.10/site-packages (from matplotlib) (1.22.2)\n",
      "Requirement already satisfied: python-dateutil>=2.7 in /Users/odanaoki/.anyenv/envs/pyenv/versions/3.10.2/lib/python3.10/site-packages (from matplotlib) (2.8.2)\n",
      "Requirement already satisfied: six>=1.5 in /Users/odanaoki/.anyenv/envs/pyenv/versions/3.10.2/lib/python3.10/site-packages (from python-dateutil>=2.7->matplotlib) (1.16.0)\n",
      "Installing collected packages: pillow, kiwisolver, fonttools, cycler, matplotlib\n",
      "Successfully installed cycler-0.11.0 fonttools-4.29.1 kiwisolver-1.3.2 matplotlib-3.5.1 pillow-9.0.1\n"
     ]
    }
   ],
   "source": [
    "!pip install matplotlib"
   ]
  },
  {
   "cell_type": "code",
   "execution_count": 26,
   "id": "355d9160",
   "metadata": {},
   "outputs": [
    {
     "data": {
      "text/plain": [
       "[<matplotlib.lines.Line2D at 0x1206aeb60>]"
      ]
     },
     "execution_count": 26,
     "metadata": {},
     "output_type": "execute_result"
    },
    {
     "data": {
      "image/png": "[encoded data removed]",
      "text/plain": [
       "<Figure size 432x288 with 1 Axes>"
      ]
     },
     "metadata": {
      "needs_background": "light"
     },
     "output_type": "display_data"
    }
   ],
   "source": [
    "import matplotlib.pyplot as plt\n",
    "import numpy as np\n",
    "\n",
    "x = np.arange(0,30)\n",
    "y = np.arange(60,90)\n",
    "plt.xlim(0, 29)\n",
    "plt.ylim(60, 89)\n",
    "plt.plot(x,y)"
   ]
  },
  {
   "cell_type": "code",
   "execution_count": 28,
   "id": "d260571c",
   "metadata": {},
   "outputs": [
    {
     "name": "stdout",
     "output_type": "stream",
     "text": [
      "[26 16  5 29 13  4 25  1  0 17 27  3 22 20 12  8 21 15 18 10  9 24  7 14\n",
      " 28 23 11  6 19  2]\n"
     ]
    }
   ],
   "source": [
    "np.random.shuffle(x)\n",
    "print(x)"
   ]
  },
  {
   "cell_type": "code",
   "execution_count": 31,
   "id": "f6011dce",
   "metadata": {},
   "outputs": [
    {
     "data": {
      "text/plain": [
       "<matplotlib.collections.PathCollection at 0x1307eb5e0>"
      ]
     },
     "execution_count": 31,
     "metadata": {},
     "output_type": "execute_result"
    },
    {
     "data": {
      "image/png": "[encoded data removed]",
      "text/plain": [
       "<Figure size 432x288 with 1 Axes>"
      ]
     },
     "metadata": {
      "needs_background": "light"
     },
     "output_type": "display_data"
    }
   ],
   "source": [
    "plt.scatter(x,y,c='red')"
   ]
  },
  {
   "cell_type": "code",
   "execution_count": 1,
   "id": "f8e36ee1",
   "metadata": {},
   "outputs": [],
   "source": [
    "import pandas as pd\n",
    "pokemon = pd.read_csv('pokemon.csv')"
   ]
  },
  {
   "cell_type": "code",
   "execution_count": 33,
   "id": "587d4003",
   "metadata": {},
   "outputs": [
    {
     "name": "stdout",
     "output_type": "stream",
     "text": [
      "Collecting pandas\n",
      "  Downloading pandas-1.4.1-cp310-cp310-macosx_11_0_arm64.whl (10.5 MB)\n",
      "\u001b[2K     \u001b[38;2;114;156;31m━━━━━━━━━━━━━━━━━━━━━━━━━━━━━━━━━━━━━━━━\u001b[0m \u001b[32m10.5/10.5 MB\u001b[0m \u001b[31m6.4 MB/s\u001b[0m eta \u001b[36m0:00:00\u001b[0mm eta \u001b[36m0:00:01\u001b[0m[36m0:00:01\u001b[0m\n",
      "\u001b[?25hCollecting pytz>=2020.1\n",
      "  Downloading pytz-2021.3-py2.py3-none-any.whl (503 kB)\n",
      "\u001b[2K     \u001b[38;2;114;156;31m━━━━━━━━━━━━━━━━━━━━━━━━━━━━━━━━━━━━━━━\u001b[0m \u001b[32m503.5/503.5 KB\u001b[0m \u001b[31m4.3 MB/s\u001b[0m eta \u001b[36m0:00:00\u001b[0m MB/s\u001b[0m eta \u001b[36m0:00:01\u001b[0m\n",
      "\u001b[?25hRequirement already satisfied: python-dateutil>=2.8.1 in /Users/odanaoki/.anyenv/envs/pyenv/versions/3.10.2/lib/python3.10/site-packages (from pandas) (2.8.2)\n",
      "Requirement already satisfied: numpy>=1.21.0 in /Users/odanaoki/.anyenv/envs/pyenv/versions/3.10.2/lib/python3.10/site-packages (from pandas) (1.22.2)\n",
      "Requirement already satisfied: six>=1.5 in /Users/odanaoki/.anyenv/envs/pyenv/versions/3.10.2/lib/python3.10/site-packages (from python-dateutil>=2.8.1->pandas) (1.16.0)\n",
      "Installing collected packages: pytz, pandas\n",
      "Successfully installed pandas-1.4.1 pytz-2021.3\n"
     ]
    }
   ],
   "source": [
    "!pip install pandas"
   ]
  },
  {
   "cell_type": "code",
   "execution_count": 2,
   "id": "7314ca35",
   "metadata": {},
   "outputs": [
    {
     "data": {
      "text/html": [
       "<div>\n",
       "<style scoped>\n",
       "    .dataframe tbody tr th:only-of-type {\n",
       "        vertical-align: middle;\n",
       "    }\n",
       "\n",
       "    .dataframe tbody tr th {\n",
       "        vertical-align: top;\n",
       "    }\n",
       "\n",
       "    .dataframe thead th {\n",
       "        text-align: right;\n",
       "    }\n",
       "</style>\n",
       "<table border=\"1\" class=\"dataframe\">\n",
       "  <thead>\n",
       "    <tr style=\"text-align: right;\">\n",
       "      <th></th>\n",
       "      <th>pokedex_number</th>\n",
       "      <th>name</th>\n",
       "      <th>japanese_name</th>\n",
       "      <th>base_total</th>\n",
       "      <th>attack</th>\n",
       "      <th>defense</th>\n",
       "      <th>sp_attack</th>\n",
       "      <th>sp_defense</th>\n",
       "      <th>speed</th>\n",
       "      <th>hp</th>\n",
       "      <th>capture_rate</th>\n",
       "      <th>experience_growth</th>\n",
       "      <th>type1</th>\n",
       "      <th>type2</th>\n",
       "      <th>classification</th>\n",
       "      <th>generation</th>\n",
       "      <th>is_legendary</th>\n",
       "      <th>x</th>\n",
       "      <th>y</th>\n",
       "    </tr>\n",
       "  </thead>\n",
       "  <tbody>\n",
       "    <tr>\n",
       "      <th>0</th>\n",
       "      <td>1</td>\n",
       "      <td>Bulbasaur</td>\n",
       "      <td>Fushigidaneフシギダネ</td>\n",
       "      <td>318</td>\n",
       "      <td>49</td>\n",
       "      <td>49</td>\n",
       "      <td>65</td>\n",
       "      <td>65</td>\n",
       "      <td>45</td>\n",
       "      <td>45</td>\n",
       "      <td>45</td>\n",
       "      <td>1059860</td>\n",
       "      <td>grass</td>\n",
       "      <td>poison</td>\n",
       "      <td>Seed Pokémon</td>\n",
       "      <td>1</td>\n",
       "      <td>0</td>\n",
       "      <td>2.002712</td>\n",
       "      <td>-23.850000</td>\n",
       "    </tr>\n",
       "    <tr>\n",
       "      <th>1</th>\n",
       "      <td>2</td>\n",
       "      <td>Ivysaur</td>\n",
       "      <td>Fushigisouフシギソウ</td>\n",
       "      <td>405</td>\n",
       "      <td>62</td>\n",
       "      <td>63</td>\n",
       "      <td>80</td>\n",
       "      <td>80</td>\n",
       "      <td>60</td>\n",
       "      <td>60</td>\n",
       "      <td>45</td>\n",
       "      <td>1059860</td>\n",
       "      <td>grass</td>\n",
       "      <td>poison</td>\n",
       "      <td>Seed Pokémon</td>\n",
       "      <td>1</td>\n",
       "      <td>0</td>\n",
       "      <td>-4.191872</td>\n",
       "      <td>-1.011356</td>\n",
       "    </tr>\n",
       "    <tr>\n",
       "      <th>2</th>\n",
       "      <td>3</td>\n",
       "      <td>Venusaur</td>\n",
       "      <td>Fushigibanaフシギバナ</td>\n",
       "      <td>625</td>\n",
       "      <td>100</td>\n",
       "      <td>123</td>\n",
       "      <td>122</td>\n",
       "      <td>120</td>\n",
       "      <td>80</td>\n",
       "      <td>80</td>\n",
       "      <td>45</td>\n",
       "      <td>1059860</td>\n",
       "      <td>grass</td>\n",
       "      <td>poison</td>\n",
       "      <td>Seed Pokémon</td>\n",
       "      <td>1</td>\n",
       "      <td>0</td>\n",
       "      <td>16.135290</td>\n",
       "      <td>25.569370</td>\n",
       "    </tr>\n",
       "    <tr>\n",
       "      <th>3</th>\n",
       "      <td>4</td>\n",
       "      <td>Charmander</td>\n",
       "      <td>Hitokageヒトカゲ</td>\n",
       "      <td>309</td>\n",
       "      <td>52</td>\n",
       "      <td>43</td>\n",
       "      <td>60</td>\n",
       "      <td>50</td>\n",
       "      <td>65</td>\n",
       "      <td>39</td>\n",
       "      <td>45</td>\n",
       "      <td>1059860</td>\n",
       "      <td>fire</td>\n",
       "      <td>NaN</td>\n",
       "      <td>Lizard Pokémon</td>\n",
       "      <td>1</td>\n",
       "      <td>0</td>\n",
       "      <td>3.716781</td>\n",
       "      <td>-33.844860</td>\n",
       "    </tr>\n",
       "    <tr>\n",
       "      <th>4</th>\n",
       "      <td>5</td>\n",
       "      <td>Charmeleon</td>\n",
       "      <td>Lizardoリザード</td>\n",
       "      <td>405</td>\n",
       "      <td>64</td>\n",
       "      <td>58</td>\n",
       "      <td>80</td>\n",
       "      <td>65</td>\n",
       "      <td>80</td>\n",
       "      <td>58</td>\n",
       "      <td>45</td>\n",
       "      <td>1059860</td>\n",
       "      <td>fire</td>\n",
       "      <td>NaN</td>\n",
       "      <td>Flame Pokémon</td>\n",
       "      <td>1</td>\n",
       "      <td>0</td>\n",
       "      <td>14.146769</td>\n",
       "      <td>-2.513509</td>\n",
       "    </tr>\n",
       "  </tbody>\n",
       "</table>\n",
       "</div>"
      ],
      "text/plain": [
       "   pokedex_number        name     japanese_name  base_total  attack  defense  \\\n",
       "0               1   Bulbasaur  Fushigidaneフシギダネ         318      49       49   \n",
       "1               2     Ivysaur   Fushigisouフシギソウ         405      62       63   \n",
       "2               3    Venusaur  Fushigibanaフシギバナ         625     100      123   \n",
       "3               4  Charmander      Hitokageヒトカゲ         309      52       43   \n",
       "4               5  Charmeleon       Lizardoリザード         405      64       58   \n",
       "\n",
       "   sp_attack  sp_defense  speed  hp  capture_rate  experience_growth  type1  \\\n",
       "0         65          65     45  45            45            1059860  grass   \n",
       "1         80          80     60  60            45            1059860  grass   \n",
       "2        122         120     80  80            45            1059860  grass   \n",
       "3         60          50     65  39            45            1059860   fire   \n",
       "4         80          65     80  58            45            1059860   fire   \n",
       "\n",
       "    type2  classification  generation  is_legendary          x          y  \n",
       "0  poison    Seed Pokémon           1             0   2.002712 -23.850000  \n",
       "1  poison    Seed Pokémon           1             0  -4.191872  -1.011356  \n",
       "2  poison    Seed Pokémon           1             0  16.135290  25.569370  \n",
       "3     NaN  Lizard Pokémon           1             0   3.716781 -33.844860  \n",
       "4     NaN   Flame Pokémon           1             0  14.146769  -2.513509  "
      ]
     },
     "execution_count": 2,
     "metadata": {},
     "output_type": "execute_result"
    }
   ],
   "source": [
    "pokemon.head()"
   ]
  },
  {
   "cell_type": "code",
   "execution_count": 3,
   "id": "65b8fea7",
   "metadata": {},
   "outputs": [],
   "source": [
    "import numpy as np\n",
    "x = np.array(pokemon)"
   ]
  },
  {
   "cell_type": "code",
   "execution_count": 4,
   "id": "3830c06b-11e5-40ea-8758-98fd1ba0f63d",
   "metadata": {},
   "outputs": [
    {
     "data": {
      "text/plain": [
       "(801, 19)"
      ]
     },
     "execution_count": 4,
     "metadata": {},
     "output_type": "execute_result"
    }
   ],
   "source": [
    "x.shape"
   ]
  },
  {
   "cell_type": "code",
   "execution_count": 6,
   "id": "4c4263f6-8f15-47cb-83a0-ae7476278e70",
   "metadata": {},
   "outputs": [
    {
     "name": "stdout",
     "output_type": "stream",
     "text": [
      "801\n"
     ]
    }
   ],
   "source": [
    "print(x.shape[0])"
   ]
  },
  {
   "cell_type": "code",
   "execution_count": 7,
   "id": "5f5d7194-da5f-4a2f-b0bc-1441338ca496",
   "metadata": {},
   "outputs": [
    {
     "data": {
      "text/plain": [
       "19"
      ]
     },
     "execution_count": 7,
     "metadata": {},
     "output_type": "execute_result"
    }
   ],
   "source": [
    "x.shape[1]"
   ]
  },
  {
   "cell_type": "code",
   "execution_count": 8,
   "id": "16e0498e-b9e5-480e-bcf4-65b5f1d53da6",
   "metadata": {},
   "outputs": [
    {
     "data": {
      "text/plain": [
       "array([1, 'Bulbasaur', 'Fushigidaneフシギダネ', 318, 49, 49, 65, 65, 45, 45,\n",
       "       45, 1059860, 'grass', 'poison', 'Seed Pokémon', 1, 0,\n",
       "       2.0027124881744385, -23.850000381469727], dtype=object)"
      ]
     },
     "execution_count": 8,
     "metadata": {},
     "output_type": "execute_result"
    }
   ],
   "source": [
    "x[0,:]"
   ]
  },
  {
   "cell_type": "code",
   "execution_count": 9,
   "id": "c5819698-dc12-45c0-a56b-8c4992e625d4",
   "metadata": {},
   "outputs": [
    {
     "data": {
      "text/plain": [
       "array([25, 'Pikachu', 'Pikachuピカチュウ', 320, 55, 40, 50, 50, 90, 35, 190,\n",
       "       1000000, 'electric', nan, 'Mouse Pokémon', 1, 0, 1.285686492919922,\n",
       "       -40.0806770324707], dtype=object)"
      ]
     },
     "execution_count": 9,
     "metadata": {},
     "output_type": "execute_result"
    }
   ],
   "source": [
    "x[24,:]"
   ]
  },
  {
   "cell_type": "code",
   "execution_count": 10,
   "id": "4f362355-0a61-445d-abfb-7fc9d0ef22af",
   "metadata": {},
   "outputs": [
    {
     "data": {
      "text/plain": [
       "array([1, 2, 3, 4, 5, 6, 7, 8, 9, 10, 11, 12, 13, 14, 15, 16, 17, 18, 19,\n",
       "       20, 21, 22, 23, 24, 25, 26, 27, 28, 29, 30, 31, 32, 33, 34, 35, 36,\n",
       "       37, 38, 39, 40, 41, 42, 43, 44, 45, 46, 47, 48, 49, 50, 51, 52, 53,\n",
       "       54, 55, 56, 57, 58, 59, 60, 61, 62, 63, 64, 65, 66, 67, 68, 69, 70,\n",
       "       71, 72, 73, 74, 75, 76, 77, 78, 79, 80, 81, 82, 83, 84, 85, 86, 87,\n",
       "       88, 89, 90, 91, 92, 93, 94, 95, 96, 97, 98, 99, 100, 101, 102, 103,\n",
       "       104, 105, 106, 107, 108, 109, 110, 111, 112, 113, 114, 115, 116,\n",
       "       117, 118, 119, 120, 121, 122, 123, 124, 125, 126, 127, 128, 129,\n",
       "       130, 131, 132, 133, 134, 135, 136, 137, 138, 139, 140, 141, 142,\n",
       "       143, 144, 145, 146, 147, 148, 149, 150, 151, 152, 153, 154, 155,\n",
       "       156, 157, 158, 159, 160, 161, 162, 163, 164, 165, 166, 167, 168,\n",
       "       169, 170, 171, 172, 173, 174, 175, 176, 177, 178, 179, 180, 181,\n",
       "       182, 183, 184, 185, 186, 187, 188, 189, 190, 191, 192, 193, 194,\n",
       "       195, 196, 197, 198, 199, 200, 201, 202, 203, 204, 205, 206, 207,\n",
       "       208, 209, 210, 211, 212, 213, 214, 215, 216, 217, 218, 219, 220,\n",
       "       221, 222, 223, 224, 225, 226, 227, 228, 229, 230, 231, 232, 233,\n",
       "       234, 235, 236, 237, 238, 239, 240, 241, 242, 243, 244, 245, 246,\n",
       "       247, 248, 249, 250, 251, 252, 253, 254, 255, 256, 257, 258, 259,\n",
       "       260, 261, 262, 263, 264, 265, 266, 267, 268, 269, 270, 271, 272,\n",
       "       273, 274, 275, 276, 277, 278, 279, 280, 281, 282, 283, 284, 285,\n",
       "       286, 287, 288, 289, 290, 291, 292, 293, 294, 295, 296, 297, 298,\n",
       "       299, 300, 301, 302, 303, 304, 305, 306, 307, 308, 309, 310, 311,\n",
       "       312, 313, 314, 315, 316, 317, 318, 319, 320, 321, 322, 323, 324,\n",
       "       325, 326, 327, 328, 329, 330, 331, 332, 333, 334, 335, 336, 337,\n",
       "       338, 339, 340, 341, 342, 343, 344, 345, 346, 347, 348, 349, 350,\n",
       "       351, 352, 353, 354, 355, 356, 357, 358, 359, 360, 361, 362, 363,\n",
       "       364, 365, 366, 367, 368, 369, 370, 371, 372, 373, 374, 375, 376,\n",
       "       377, 378, 379, 380, 381, 382, 383, 384, 385, 386, 387, 388, 389,\n",
       "       390, 391, 392, 393, 394, 395, 396, 397, 398, 399, 400, 401, 402,\n",
       "       403, 404, 405, 406, 407, 408, 409, 410, 411, 412, 413, 414, 415,\n",
       "       416, 417, 418, 419, 420, 421, 422, 423, 424, 425, 426, 427, 428,\n",
       "       429, 430, 431, 432, 433, 434, 435, 436, 437, 438, 439, 440, 441,\n",
       "       442, 443, 444, 445, 446, 447, 448, 449, 450, 451, 452, 453, 454,\n",
       "       455, 456, 457, 458, 459, 460, 461, 462, 463, 464, 465, 466, 467,\n",
       "       468, 469, 470, 471, 472, 473, 474, 475, 476, 477, 478, 479, 480,\n",
       "       481, 482, 483, 484, 485, 486, 487, 488, 489, 490, 491, 492, 493,\n",
       "       494, 495, 496, 497, 498, 499, 500, 501, 502, 503, 504, 505, 506,\n",
       "       507, 508, 509, 510, 511, 512, 513, 514, 515, 516, 517, 518, 519,\n",
       "       520, 521, 522, 523, 524, 525, 526, 527, 528, 529, 530, 531, 532,\n",
       "       533, 534, 535, 536, 537, 538, 539, 540, 541, 542, 543, 544, 545,\n",
       "       546, 547, 548, 549, 550, 551, 552, 553, 554, 555, 556, 557, 558,\n",
       "       559, 560, 561, 562, 563, 564, 565, 566, 567, 568, 569, 570, 571,\n",
       "       572, 573, 574, 575, 576, 577, 578, 579, 580, 581, 582, 583, 584,\n",
       "       585, 586, 587, 588, 589, 590, 591, 592, 593, 594, 595, 596, 597,\n",
       "       598, 599, 600, 601, 602, 603, 604, 605, 606, 607, 608, 609, 610,\n",
       "       611, 612, 613, 614, 615, 616, 617, 618, 619, 620, 621, 622, 623,\n",
       "       624, 625, 626, 627, 628, 629, 630, 631, 632, 633, 634, 635, 636,\n",
       "       637, 638, 639, 640, 641, 642, 643, 644, 645, 646, 647, 648, 649,\n",
       "       650, 651, 652, 653, 654, 655, 656, 657, 658, 659, 660, 661, 662,\n",
       "       663, 664, 665, 666, 667, 668, 669, 670, 671, 672, 673, 674, 675,\n",
       "       676, 677, 678, 679, 680, 681, 682, 683, 684, 685, 686, 687, 688,\n",
       "       689, 690, 691, 692, 693, 694, 695, 696, 697, 698, 699, 700, 701,\n",
       "       702, 703, 704, 705, 706, 707, 708, 709, 710, 711, 712, 713, 714,\n",
       "       715, 716, 717, 718, 719, 720, 721, 722, 723, 724, 725, 726, 727,\n",
       "       728, 729, 730, 731, 732, 733, 734, 735, 736, 737, 738, 739, 740,\n",
       "       741, 742, 743, 744, 745, 746, 747, 748, 749, 750, 751, 752, 753,\n",
       "       754, 755, 756, 757, 758, 759, 760, 761, 762, 763, 764, 765, 766,\n",
       "       767, 768, 769, 770, 771, 772, 773, 774, 775, 776, 777, 778, 779,\n",
       "       780, 781, 782, 783, 784, 785, 786, 787, 788, 789, 790, 791, 792,\n",
       "       793, 794, 795, 796, 797, 798, 799, 800, 801], dtype=object)"
      ]
     },
     "execution_count": 10,
     "metadata": {},
     "output_type": "execute_result"
    }
   ],
   "source": [
    "x[:,0]"
   ]
  },
  {
   "cell_type": "code",
   "execution_count": 11,
   "id": "e135e9f6-b18a-4e9f-8242-67c48e5d92b1",
   "metadata": {},
   "outputs": [
    {
     "data": {
      "text/plain": [
       "array([[6, 'Charizard', 'Lizardonリザードン'],\n",
       "       [7, 'Squirtle', 'Zenigameゼニガメ'],\n",
       "       [8, 'Wartortle', 'Kameilカメール']], dtype=object)"
      ]
     },
     "execution_count": 11,
     "metadata": {},
     "output_type": "execute_result"
    }
   ],
   "source": [
    "x[5:8,0:3]"
   ]
  },
  {
   "cell_type": "code",
   "execution_count": 26,
   "id": "8496c490-73e3-4eba-b5b0-cec7b5da87a4",
   "metadata": {},
   "outputs": [
    {
     "name": "stdout",
     "output_type": "stream",
     "text": [
      "(801, 6)\n"
     ]
    }
   ],
   "source": [
    "y = x[:,4:10]\n",
    "print(y.shape)"
   ]
  },
  {
   "cell_type": "code",
   "execution_count": 27,
   "id": "ef051e74-9b71-4d20-b19c-c4c79519ef1a",
   "metadata": {},
   "outputs": [
    {
     "name": "stdout",
     "output_type": "stream",
     "text": [
      "[213 207 149 212 385 241]\n",
      "(6,)\n"
     ]
    }
   ],
   "source": [
    "zero = np.argmax(y,axis = 0)\n",
    "print(zero)\n",
    "print(zero.shape)"
   ]
  },
  {
   "cell_type": "code",
   "execution_count": 28,
   "id": "f04e722e-8c51-4486-8690-5598d6a275eb",
   "metadata": {},
   "outputs": [
    {
     "name": "stdout",
     "output_type": "stream",
     "text": [
      "[2 2 1 4 2 2 1 1 2 4 1 2 4 1 0 4 4 2 4 3 4 4 0 0 4 4 1 1 5 5 0 0 0 0 5 2 3\n",
      " 4 5 5 4 4 2 2 2 0 0 5 2 4 4 4 4 2 2 0 0 0 0 4 4 0 2 2 2 0 0 0 0 0 0 3 3 1\n",
      " 1 1 4 4 5 1 2 2 0 0 0 3 3 0 0 1 1 2 2 2 1 3 3 0 0 4 4 1 2 1 1 0 3 5 1 1 1\n",
      " 0 5 1 0 1 1 0 0 4 4 3 0 2 4 2 0 4 4 0 5 0 3 5 4 0 2 1 1 1 0 4 5 3 2 2 0 0\n",
      " 0 2 0 1 1 1 4 2 2 0 0 0 0 4 5 5 3 3 0 0 4 5 5 4 3 5 1 3 2 2 2 2 2 3 5 5 1\n",
      " 3 3 4 4 4 0 2 4 5 5 2 3 4 3 2 0 5 2 1 1 5 1 1 0 0 0 0 1 0 4 0 0 2 1 0 0 1\n",
      " 0 0 4 3 1 2 2 0 5 0 2 0 4 0 3 2 4 4 1 5 2 0 1 0 0 0 3 3 0 4 4 2 2 0 0 0 0\n",
      " 0 0 0 4 4 0 1 2 1 3 3 3 3 1 0 0 4 4 4 1 2 2 2 4 2 1 0 0 4 0 1 4 0 5 5 5 5\n",
      " 5 5 1 4 4 1 1 1 1 1 4 0 2 2 4 4 3 3 2 5 5 0 0 5 5 2 2 1 3 3 0 0 0 0 0 0 3\n",
      " 0 0 0 2 0 4 5 0 0 3 3 3 3 0 0 4 3 0 3 0 0 1 1 5 2 0 5 0 0 5 5 5 1 1 2 1 4\n",
      " 0 1 0 1 1 1 1 3 1 3 2 2 0 0 0 4 0 0 0 4 4 4 2 2 2 4 4 0 5 0 1 0 0 0 0 3 2\n",
      " 0 0 1 1 1 1 0 4 1 4 4 4 2 2 5 5 4 5 5 4 0 2 0 4 4 2 4 5 1 1 1 3 5 2 1 0 0\n",
      " 0 5 0 0 1 1 1 1 0 0 0 4 4 3 0 0 4 2 5 0 1 0 2 2 2 1 2 1 0 2 0 3 1 4 1 1 0\n",
      " 0 2 2 2 0 5 3 0 0 2 4 0 0 4 4 4 5 0 0 2 2 2 0 0 0 0 0 4 4 4 4 4 4 4 4 5 5\n",
      " 0 0 0 4 4 1 0 0 4 4 0 0 1 0 0 0 4 5 5 5 0 1 1 0 1 1 4 4 4 2 2 4 0 0 0 0 2\n",
      " 2 1 1 0 1 2 1 1 1 1 0 0 4 0 2 2 4 4 3 3 3 2 2 2 5 4 2 2 2 4 0 4 0 0 5 5 3\n",
      " 3 5 4 4 1 1 1 1 1 4 0 0 2 2 2 2 2 0 0 0 0 0 3 1 4 5 0 0 0 0 0 0 0 0 0 0 1\n",
      " 5 2 1 0 0 2 0 2 1 0 3 4 2 2 0 0 2 2 0 0 1 1 1 2 2 2 4 4 2 4 5 4 4 4 1 1 2\n",
      " 2 2 3 3 3 5 5 0 0 4 4 4 1 1 0 5 5 1 1 0 0 1 1 0 3 3 2 4 2 0 0 5 5 3 4 4 1\n",
      " 3 3 3 1 0 0 1 1 1 1 4 4 0 0 5 0 2 2 5 5 0 4 4 0 2 2 2 0 0 0 0 0 0 1 2 0 0\n",
      " 2 4 4 0 0 0 1 1 0 0 3 3 0 0 3 3 4 4 0 0 5 4 0 3 3 0 4 1 1 1 1 0 0 4 0 1 0\n",
      " 3 0 2 0 1 1 1 4 2 0 3 5 1 0 2 3 0 4 2 2 0 5 2 2]\n",
      "(801,)\n"
     ]
    }
   ],
   "source": [
    "one = np.argmax(y,axis = 1)\n",
    "print(one)\n",
    "print(one.shape)"
   ]
  },
  {
   "cell_type": "code",
   "execution_count": 31,
   "id": "4ec2c305-3c9a-4611-bd17-971fba2c9709",
   "metadata": {},
   "outputs": [
    {
     "name": "stdout",
     "output_type": "stream",
     "text": [
      "[['Fushigidaneフシギダネ' 318 49 49 65 65 45 45]\n",
      " ['Fushigisouフシギソウ' 405 62 63 80 80 60 60]\n",
      " ['Fushigibanaフシギバナ' 625 100 123 122 120 80 80]]\n",
      "[['Hitokageヒトカゲ' 309 52 43 60 50 65 39]\n",
      " ['Lizardoリザード' 405 64 58 80 65 80 58]\n",
      " ['Lizardonリザードン' 634 104 78 159 115 100 78]]\n",
      "(3, 8)\n",
      "(3, 8)\n"
     ]
    }
   ],
   "source": [
    "A = x[0:3,2:10]\n",
    "B = x[3:6,2:10]\n",
    "print(A)\n",
    "print(B)\n",
    "print(A.shape)\n",
    "print(B.shape)"
   ]
  },
  {
   "cell_type": "code",
   "execution_count": 32,
   "id": "17972883-717d-4d15-9363-cda5b40c8be5",
   "metadata": {},
   "outputs": [
    {
     "name": "stdout",
     "output_type": "stream",
     "text": [
      "[['Fushigidaneフシギダネ' 318 49 49 65 65 45 45]\n",
      " ['Fushigisouフシギソウ' 405 62 63 80 80 60 60]\n",
      " ['Fushigibanaフシギバナ' 625 100 123 122 120 80 80]\n",
      " ['Hitokageヒトカゲ' 309 52 43 60 50 65 39]\n",
      " ['Lizardoリザード' 405 64 58 80 65 80 58]\n",
      " ['Lizardonリザードン' 634 104 78 159 115 100 78]]\n",
      "(6, 8)\n"
     ]
    }
   ],
   "source": [
    "print(np.concatenate((A,B), axis = 0))\n",
    "print(np.concatenate((A,B), axis = 0).shape)"
   ]
  },
  {
   "cell_type": "code",
   "execution_count": 33,
   "id": "40730314-5268-498c-9d72-1442c44a6dfe",
   "metadata": {},
   "outputs": [
    {
     "name": "stdout",
     "output_type": "stream",
     "text": [
      "[['Fushigidaneフシギダネ' 318 49 49 65 65 45 45 'Hitokageヒトカゲ' 309 52 43 60 50\n",
      "  65 39]\n",
      " ['Fushigisouフシギソウ' 405 62 63 80 80 60 60 'Lizardoリザード' 405 64 58 80 65\n",
      "  80 58]\n",
      " ['Fushigibanaフシギバナ' 625 100 123 122 120 80 80 'Lizardonリザードン' 634 104 78\n",
      "  159 115 100 78]]\n",
      "(3, 16)\n"
     ]
    }
   ],
   "source": [
    "print(np.concatenate((A,B), axis = 1))\n",
    "print(np.concatenate((A,B), axis = 1).shape)"
   ]
  },
  {
   "cell_type": "code",
   "execution_count": 34,
   "id": "ab531290-654e-433d-8e64-3db22732cceb",
   "metadata": {},
   "outputs": [
    {
     "data": {
      "text/plain": [
       "15219"
      ]
     },
     "execution_count": 34,
     "metadata": {},
     "output_type": "execute_result"
    }
   ],
   "source": [
    "num = x.shape[0] * x.shape[1]\n",
    "num"
   ]
  },
  {
   "cell_type": "code",
   "execution_count": 35,
   "id": "4fb106a9-246b-4514-be00-c24cab163896",
   "metadata": {},
   "outputs": [
    {
     "name": "stdout",
     "output_type": "stream",
     "text": [
      "[1 'Bulbasaur' 'Fushigidaneフシギダネ' ... 1 15.848186492919922\n",
      " 24.617578506469727]\n",
      "(15219,)\n"
     ]
    }
   ],
   "source": [
    "reshaped_x = x.reshape(num,)\n",
    "print(reshaped_x)\n",
    "print(reshaped_x.shape)"
   ]
  },
  {
   "cell_type": "code",
   "execution_count": 36,
   "id": "bf31d370-c68a-487f-8ae2-81a34fb32aa3",
   "metadata": {},
   "outputs": [
    {
     "data": {
      "text/plain": [
       "(5073, 3)"
      ]
     },
     "execution_count": 36,
     "metadata": {},
     "output_type": "execute_result"
    }
   ],
   "source": [
    "x.reshape(-1,3).shape"
   ]
  },
  {
   "cell_type": "code",
   "execution_count": 37,
   "id": "fc6318ef-f137-46da-b215-f97e764e943f",
   "metadata": {},
   "outputs": [
    {
     "data": {
      "text/plain": [
       "(15219,)"
      ]
     },
     "execution_count": 37,
     "metadata": {},
     "output_type": "execute_result"
    }
   ],
   "source": [
    "x.reshape(-1,).shape"
   ]
  },
  {
   "cell_type": "code",
   "execution_count": null,
   "id": "d3aec20b-7b00-43a4-8c87-44f95da44ef2",
   "metadata": {},
   "outputs": [],
   "source": []
  }
 ],
 "metadata": {
  "kernelspec": {
   "display_name": "Python 3 (ipykernel)",
   "language": "python",
   "name": "python3"
  },
  "language_info": {
   "codemirror_mode": {
    "name": "ipython",
    "version": 3
   },
   "file_extension": ".py",
   "mimetype": "text/x-python",
   "name": "python",
   "nbconvert_exporter": "python",
   "pygments_lexer": "ipython3",
   "version": "3.10.2"
  }
 },
 "nbformat": 4,
 "nbformat_minor": 5
}
