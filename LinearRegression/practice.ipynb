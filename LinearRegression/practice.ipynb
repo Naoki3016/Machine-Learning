{
 "cells": [
  {
   "cell_type": "code",
   "execution_count": 1,
   "id": "406b4af4-23e7-4abd-aceb-0dc1ec054157",
   "metadata": {},
   "outputs": [],
   "source": [
    "import pandas as pd\n",
    "pokemon = pd.read_csv('pokemon.csv')"
   ]
  },
  {
   "cell_type": "code",
   "execution_count": 2,
   "id": "def363e6-f97a-464c-b742-bd557d52a972",
   "metadata": {},
   "outputs": [
    {
     "name": "stdout",
     "output_type": "stream",
     "text": [
      "     pokedex_number        name     japanese_name  base_total  attack  \\\n",
      "0                 1   Bulbasaur  Fushigidaneフシギダネ         318      49   \n",
      "1                 2     Ivysaur   Fushigisouフシギソウ         405      62   \n",
      "2                 3    Venusaur  Fushigibanaフシギバナ         625     100   \n",
      "3                 4  Charmander      Hitokageヒトカゲ         309      52   \n",
      "4                 5  Charmeleon       Lizardoリザード         405      64   \n",
      "..              ...         ...               ...         ...     ...   \n",
      "796             797  Celesteela    Tekkaguyaテッカグヤ         570     101   \n",
      "797             798     Kartana   Kamiturugiカミツルギ         570     181   \n",
      "798             799    Guzzlord   Akuzikingアクジキング         570     101   \n",
      "799             800    Necrozma     Necrozmaネクロズマ         600     107   \n",
      "800             801    Magearna      Magearnaマギアナ         600      95   \n",
      "\n",
      "     defense  sp_attack  sp_defense  speed   hp  capture_rate  \\\n",
      "0         49         65          65     45   45            45   \n",
      "1         63         80          80     60   60            45   \n",
      "2        123        122         120     80   80            45   \n",
      "3         43         60          50     65   39            45   \n",
      "4         58         80          65     80   58            45   \n",
      "..       ...        ...         ...    ...  ...           ...   \n",
      "796      103        107         101     61   97            25   \n",
      "797      131         59          31    109   59           255   \n",
      "798       53         97          53     43  223            15   \n",
      "799      101        127          89     79   97             3   \n",
      "800      115        130         115     65   80             3   \n",
      "\n",
      "     experience_growth    type1   type2       classification  generation  \\\n",
      "0              1059860    grass  poison         Seed Pokémon           1   \n",
      "1              1059860    grass  poison         Seed Pokémon           1   \n",
      "2              1059860    grass  poison         Seed Pokémon           1   \n",
      "3              1059860     fire     NaN       Lizard Pokémon           1   \n",
      "4              1059860     fire     NaN        Flame Pokémon           1   \n",
      "..                 ...      ...     ...                  ...         ...   \n",
      "796            1250000    steel  flying       Launch Pokémon           7   \n",
      "797            1250000    grass   steel  Drawn Sword Pokémon           7   \n",
      "798            1250000     dark  dragon    Junkivore Pokémon           7   \n",
      "799            1250000  psychic     NaN        Prism Pokémon           7   \n",
      "800            1250000    steel   fairy   Artificial Pokémon           7   \n",
      "\n",
      "     is_legendary          x          y  \n",
      "0               0   2.002712 -23.850000  \n",
      "1               0  -4.191872  -1.011356  \n",
      "2               0  16.135290  25.569370  \n",
      "3               0   3.716781 -33.844860  \n",
      "4               0  14.146769  -2.513509  \n",
      "..            ...        ...        ...  \n",
      "796             1  13.198112  24.318155  \n",
      "797             1 -22.460848  20.356583  \n",
      "798             1  -0.751559   9.478468  \n",
      "799             1  17.545467  22.838583  \n",
      "800             1  15.848186  24.617579  \n",
      "\n",
      "[801 rows x 19 columns]\n"
     ]
    }
   ],
   "source": [
    "print(pokemon)"
   ]
  },
  {
   "cell_type": "code",
   "execution_count": 5,
   "id": "512b5612-4927-49d1-b8bf-b363bc713aee",
   "metadata": {},
   "outputs": [],
   "source": [
    "x = pokemon[['attack','defense','sp_attack','sp_defense','speed']]\n",
    "y = pokemon[['hp']]"
   ]
  },
  {
   "cell_type": "code",
   "execution_count": 6,
   "id": "e6028406-96ca-4ff2-9074-74a54ca13c25",
   "metadata": {},
   "outputs": [
    {
     "name": "stdout",
     "output_type": "stream",
     "text": [
      "   attack  defense  sp_attack  sp_defense  speed\n",
      "0      49       49         65          65     45\n",
      "1      62       63         80          80     60\n",
      "2     100      123        122         120     80\n",
      "3      52       43         60          50     65\n",
      "4      64       58         80          65     80\n",
      "   hp\n",
      "0  45\n",
      "1  60\n",
      "2  80\n",
      "3  39\n",
      "4  58\n"
     ]
    }
   ],
   "source": [
    "print(x.head())\n",
    "print(y.head())"
   ]
  },
  {
   "cell_type": "code",
   "execution_count": 7,
   "id": "441f1026-5358-42df-8b55-d14e688135fa",
   "metadata": {},
   "outputs": [],
   "source": [
    "import numpy as np\n",
    "import matplotlib.pyplot as plt\n",
    "%matplotlib inline"
   ]
  },
  {
   "cell_type": "code",
   "execution_count": 8,
   "id": "80d6ec95-e8e5-4716-bb9c-1c3b47498a87",
   "metadata": {},
   "outputs": [],
   "source": [
    "from sklearn.model_selection import train_test_split\n",
    "x_train,x_test,y_train,y_test = train_test_split(x,y,test_size = 0.3)"
   ]
  },
  {
   "cell_type": "code",
   "execution_count": 9,
   "id": "741f8a89-0d2e-4714-ad8c-0e288486189a",
   "metadata": {},
   "outputs": [],
   "source": [
    "from sklearn.linear_model import LinearRegression\n",
    "lr = LinearRegression()"
   ]
  },
  {
   "cell_type": "code",
   "execution_count": 10,
   "id": "2a7299e4-73fa-4921-afbb-3c08c65bcc94",
   "metadata": {},
   "outputs": [
    {
     "data": {
      "text/plain": [
       "LinearRegression()"
      ]
     },
     "execution_count": 10,
     "metadata": {},
     "output_type": "execute_result"
    }
   ],
   "source": [
    "lr.fit(x_train,y_train)"
   ]
  },
  {
   "cell_type": "code",
   "execution_count": 11,
   "id": "a4d4bd92-21de-4920-a3cb-3a90d1d180c5",
   "metadata": {},
   "outputs": [
    {
     "data": {
      "text/plain": [
       "0.27141638907768373"
      ]
     },
     "execution_count": 11,
     "metadata": {},
     "output_type": "execute_result"
    }
   ],
   "source": [
    "lr.score(x_train,y_train)"
   ]
  },
  {
   "cell_type": "code",
   "execution_count": null,
   "id": "066893b4-ebb4-4fd9-b7c9-8c26c027a119",
   "metadata": {},
   "outputs": [],
   "source": []
  }
 ],
 "metadata": {
  "kernelspec": {
   "display_name": "Python 3 (ipykernel)",
   "language": "python",
   "name": "python3"
  },
  "language_info": {
   "codemirror_mode": {
    "name": "ipython",
    "version": 3
   },
   "file_extension": ".py",
   "mimetype": "text/x-python",
   "name": "python",
   "nbconvert_exporter": "python",
   "pygments_lexer": "ipython3",
   "version": "3.10.2"
  }
 },
 "nbformat": 4,
 "nbformat_minor": 5
}
