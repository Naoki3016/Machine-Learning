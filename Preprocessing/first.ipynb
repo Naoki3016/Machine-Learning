{
 "cells": [
  {
   "cell_type": "code",
   "execution_count": 2,
   "id": "3801016d-6a9c-4d95-abd5-36dc41bd5ad3",
   "metadata": {},
   "outputs": [],
   "source": [
    "import pandas as pd\n",
    "from sklearn.model_selection import train_test_split\n",
    "df=pd.read_csv('questionaire.csv')"
   ]
  },
  {
   "cell_type": "code",
   "execution_count": 5,
   "id": "c9c2cf9c-e949-44c7-973b-91d4d25320b0",
   "metadata": {
    "collapsed": true,
    "jupyter": {
     "outputs_hidden": true
    },
    "tags": []
   },
   "outputs": [
    {
     "data": {
      "text/plain": [
       "user_id                      0\n",
       "conflict_school              0\n",
       "interest_for_job_changing    0\n",
       "purpose                      7\n",
       "status                       0\n",
       "occupation                   0\n",
       "result                       0\n",
       "dtype: int64"
      ]
     },
     "execution_count": 5,
     "metadata": {},
     "output_type": "execute_result"
    }
   ],
   "source": [
    "# データが空になっているかの確認\n",
    "df.isnull().sum()"
   ]
  },
  {
   "cell_type": "code",
   "execution_count": 6,
   "id": "82fc0070-41b5-4894-a5cf-5c9cceb5bc3e",
   "metadata": {},
   "outputs": [],
   "source": [
    "# 欠損をなくしたデータを代入\n",
    "df = df.dropna()"
   ]
  },
  {
   "cell_type": "code",
   "execution_count": 7,
   "id": "e730d4d2-1806-4310-b8a1-fdd7eda5cf46",
   "metadata": {
    "collapsed": true,
    "jupyter": {
     "outputs_hidden": true
    },
    "tags": []
   },
   "outputs": [
    {
     "data": {
      "text/plain": [
       "user_id                      0\n",
       "conflict_school              0\n",
       "interest_for_job_changing    0\n",
       "purpose                      0\n",
       "status                       0\n",
       "occupation                   0\n",
       "result                       0\n",
       "dtype: int64"
      ]
     },
     "execution_count": 7,
     "metadata": {},
     "output_type": "execute_result"
    }
   ],
   "source": [
    "df.isnull().sum()"
   ]
  },
  {
   "cell_type": "code",
   "execution_count": 9,
   "id": "0493f94b-20e4-4654-90b8-8bdd99ed96e9",
   "metadata": {},
   "outputs": [],
   "source": [
    "# 二値データの変換\n",
    "df = df.replace({'result':{'OK':1,'NG':0}})"
   ]
  },
  {
   "cell_type": "code",
   "execution_count": 10,
   "id": "7a205ec3-2067-41d9-a19f-5e8c580bff0e",
   "metadata": {
    "collapsed": true,
    "jupyter": {
     "outputs_hidden": true
    },
    "tags": []
   },
   "outputs": [
    {
     "data": {
      "text/html": [
       "<div>\n",
       "<style scoped>\n",
       "    .dataframe tbody tr th:only-of-type {\n",
       "        vertical-align: middle;\n",
       "    }\n",
       "\n",
       "    .dataframe tbody tr th {\n",
       "        vertical-align: top;\n",
       "    }\n",
       "\n",
       "    .dataframe thead th {\n",
       "        text-align: right;\n",
       "    }\n",
       "</style>\n",
       "<table border=\"1\" class=\"dataframe\">\n",
       "  <thead>\n",
       "    <tr style=\"text-align: right;\">\n",
       "      <th></th>\n",
       "      <th>user_id</th>\n",
       "      <th>conflict_school</th>\n",
       "      <th>interest_for_job_changing</th>\n",
       "      <th>purpose</th>\n",
       "      <th>status</th>\n",
       "      <th>occupation</th>\n",
       "      <th>result</th>\n",
       "    </tr>\n",
       "  </thead>\n",
       "  <tbody>\n",
       "    <tr>\n",
       "      <th>0</th>\n",
       "      <td>13278</td>\n",
       "      <td>無回答</td>\n",
       "      <td>転職は考えていない</td>\n",
       "      <td>無回答</td>\n",
       "      <td>プログラミングに興味がある</td>\n",
       "      <td>企画・マーケティング</td>\n",
       "      <td>0</td>\n",
       "    </tr>\n",
       "    <tr>\n",
       "      <th>1</th>\n",
       "      <td>20699</td>\n",
       "      <td>検討していない</td>\n",
       "      <td>IT業界への転職に興味がある</td>\n",
       "      <td>自分でサービスを開発できるようになりたい</td>\n",
       "      <td>受講は検討していない</td>\n",
       "      <td>事務職</td>\n",
       "      <td>0</td>\n",
       "    </tr>\n",
       "    <tr>\n",
       "      <th>2</th>\n",
       "      <td>34660</td>\n",
       "      <td>検討していない</td>\n",
       "      <td>IT業界への転職に興味がある</td>\n",
       "      <td>今の仕事に活かしたい</td>\n",
       "      <td>3ヶ月よりも後に受講を検討している</td>\n",
       "      <td>教職員</td>\n",
       "      <td>0</td>\n",
       "    </tr>\n",
       "    <tr>\n",
       "      <th>4</th>\n",
       "      <td>26650</td>\n",
       "      <td>検討している</td>\n",
       "      <td>転職は考えていない</td>\n",
       "      <td>自分でサービスを開発できるようになりたい</td>\n",
       "      <td>すぐにでも受講したい</td>\n",
       "      <td>事務職</td>\n",
       "      <td>0</td>\n",
       "    </tr>\n",
       "    <tr>\n",
       "      <th>5</th>\n",
       "      <td>28159</td>\n",
       "      <td>検討していない</td>\n",
       "      <td>転職は考えていない</td>\n",
       "      <td>副業、フリーランスで稼げるようになりたい</td>\n",
       "      <td>受講は検討していない</td>\n",
       "      <td>財務・経理</td>\n",
       "      <td>0</td>\n",
       "    </tr>\n",
       "    <tr>\n",
       "      <th>...</th>\n",
       "      <td>...</td>\n",
       "      <td>...</td>\n",
       "      <td>...</td>\n",
       "      <td>...</td>\n",
       "      <td>...</td>\n",
       "      <td>...</td>\n",
       "      <td>...</td>\n",
       "    </tr>\n",
       "    <tr>\n",
       "      <th>840</th>\n",
       "      <td>13639</td>\n",
       "      <td>無回答</td>\n",
       "      <td>転職は考えていない</td>\n",
       "      <td>無回答</td>\n",
       "      <td>プログラミングに興味がある</td>\n",
       "      <td>大学生</td>\n",
       "      <td>0</td>\n",
       "    </tr>\n",
       "    <tr>\n",
       "      <th>841</th>\n",
       "      <td>35627</td>\n",
       "      <td>検討している</td>\n",
       "      <td>エンジニアとしての転職に興味がある</td>\n",
       "      <td>IT業界で働きたい(就職・転職)</td>\n",
       "      <td>3ヶ月よりも後に受講を検討している</td>\n",
       "      <td>営業・販売</td>\n",
       "      <td>0</td>\n",
       "    </tr>\n",
       "    <tr>\n",
       "      <th>842</th>\n",
       "      <td>34638</td>\n",
       "      <td>検討している</td>\n",
       "      <td>転職は考えていない</td>\n",
       "      <td>副業、フリーランスで稼げるようになりたい</td>\n",
       "      <td>3ヶ月以内の受講を検討している</td>\n",
       "      <td>専門職(医師・看護師・弁護士など)</td>\n",
       "      <td>0</td>\n",
       "    </tr>\n",
       "    <tr>\n",
       "      <th>843</th>\n",
       "      <td>37213</td>\n",
       "      <td>検討している</td>\n",
       "      <td>エンジニアとしての転職に興味がある</td>\n",
       "      <td>副業、フリーランスで稼げるようになりたい</td>\n",
       "      <td>3ヶ月以内の受講を検討している</td>\n",
       "      <td>研究・開発・技術者</td>\n",
       "      <td>0</td>\n",
       "    </tr>\n",
       "    <tr>\n",
       "      <th>844</th>\n",
       "      <td>32596</td>\n",
       "      <td>検討していない</td>\n",
       "      <td>IT業界への転職に興味がある</td>\n",
       "      <td>自分でサービスを開発できるようになりたい</td>\n",
       "      <td>すぐにでも受講したい</td>\n",
       "      <td>企画・マーケティング</td>\n",
       "      <td>0</td>\n",
       "    </tr>\n",
       "  </tbody>\n",
       "</table>\n",
       "<p>838 rows × 7 columns</p>\n",
       "</div>"
      ],
      "text/plain": [
       "     user_id conflict_school interest_for_job_changing               purpose  \\\n",
       "0      13278             無回答                 転職は考えていない                   無回答   \n",
       "1      20699         検討していない            IT業界への転職に興味がある  自分でサービスを開発できるようになりたい   \n",
       "2      34660         検討していない            IT業界への転職に興味がある            今の仕事に活かしたい   \n",
       "4      26650          検討している                 転職は考えていない  自分でサービスを開発できるようになりたい   \n",
       "5      28159         検討していない                 転職は考えていない  副業、フリーランスで稼げるようになりたい   \n",
       "..       ...             ...                       ...                   ...   \n",
       "840    13639             無回答                 転職は考えていない                   無回答   \n",
       "841    35627          検討している         エンジニアとしての転職に興味がある      IT業界で働きたい(就職・転職)   \n",
       "842    34638          検討している                 転職は考えていない  副業、フリーランスで稼げるようになりたい   \n",
       "843    37213          検討している         エンジニアとしての転職に興味がある  副業、フリーランスで稼げるようになりたい   \n",
       "844    32596         検討していない            IT業界への転職に興味がある  自分でサービスを開発できるようになりたい   \n",
       "\n",
       "                status         occupation  result  \n",
       "0        プログラミングに興味がある         企画・マーケティング       0  \n",
       "1           受講は検討していない                事務職       0  \n",
       "2    3ヶ月よりも後に受講を検討している                教職員       0  \n",
       "4           すぐにでも受講したい                事務職       0  \n",
       "5           受講は検討していない              財務・経理       0  \n",
       "..                 ...                ...     ...  \n",
       "840      プログラミングに興味がある                大学生       0  \n",
       "841  3ヶ月よりも後に受講を検討している              営業・販売       0  \n",
       "842    3ヶ月以内の受講を検討している  専門職(医師・看護師・弁護士など)       0  \n",
       "843    3ヶ月以内の受講を検討している          研究・開発・技術者       0  \n",
       "844         すぐにでも受講したい         企画・マーケティング       0  \n",
       "\n",
       "[838 rows x 7 columns]"
      ]
     },
     "execution_count": 10,
     "metadata": {},
     "output_type": "execute_result"
    }
   ],
   "source": [
    "df"
   ]
  },
  {
   "cell_type": "code",
   "execution_count": 11,
   "id": "16c8855f-7e15-462f-bd8b-87af8678c39a",
   "metadata": {},
   "outputs": [],
   "source": [
    "# one-hot表現への置き換え\n",
    "df = pd.get_dummies(df,columns=['conflict_school'])"
   ]
  },
  {
   "cell_type": "code",
   "execution_count": 12,
   "id": "2f3530bc-1320-4c48-82c0-003f736db3c3",
   "metadata": {
    "collapsed": true,
    "jupyter": {
     "outputs_hidden": true
    },
    "tags": []
   },
   "outputs": [
    {
     "data": {
      "text/html": [
       "<div>\n",
       "<style scoped>\n",
       "    .dataframe tbody tr th:only-of-type {\n",
       "        vertical-align: middle;\n",
       "    }\n",
       "\n",
       "    .dataframe tbody tr th {\n",
       "        vertical-align: top;\n",
       "    }\n",
       "\n",
       "    .dataframe thead th {\n",
       "        text-align: right;\n",
       "    }\n",
       "</style>\n",
       "<table border=\"1\" class=\"dataframe\">\n",
       "  <thead>\n",
       "    <tr style=\"text-align: right;\">\n",
       "      <th></th>\n",
       "      <th>user_id</th>\n",
       "      <th>interest_for_job_changing</th>\n",
       "      <th>purpose</th>\n",
       "      <th>status</th>\n",
       "      <th>occupation</th>\n",
       "      <th>result</th>\n",
       "      <th>conflict_school_検討していない</th>\n",
       "      <th>conflict_school_検討している</th>\n",
       "      <th>conflict_school_無回答</th>\n",
       "    </tr>\n",
       "  </thead>\n",
       "  <tbody>\n",
       "    <tr>\n",
       "      <th>0</th>\n",
       "      <td>13278</td>\n",
       "      <td>転職は考えていない</td>\n",
       "      <td>無回答</td>\n",
       "      <td>プログラミングに興味がある</td>\n",
       "      <td>企画・マーケティング</td>\n",
       "      <td>0</td>\n",
       "      <td>0</td>\n",
       "      <td>0</td>\n",
       "      <td>1</td>\n",
       "    </tr>\n",
       "    <tr>\n",
       "      <th>1</th>\n",
       "      <td>20699</td>\n",
       "      <td>IT業界への転職に興味がある</td>\n",
       "      <td>自分でサービスを開発できるようになりたい</td>\n",
       "      <td>受講は検討していない</td>\n",
       "      <td>事務職</td>\n",
       "      <td>0</td>\n",
       "      <td>1</td>\n",
       "      <td>0</td>\n",
       "      <td>0</td>\n",
       "    </tr>\n",
       "    <tr>\n",
       "      <th>2</th>\n",
       "      <td>34660</td>\n",
       "      <td>IT業界への転職に興味がある</td>\n",
       "      <td>今の仕事に活かしたい</td>\n",
       "      <td>3ヶ月よりも後に受講を検討している</td>\n",
       "      <td>教職員</td>\n",
       "      <td>0</td>\n",
       "      <td>1</td>\n",
       "      <td>0</td>\n",
       "      <td>0</td>\n",
       "    </tr>\n",
       "    <tr>\n",
       "      <th>4</th>\n",
       "      <td>26650</td>\n",
       "      <td>転職は考えていない</td>\n",
       "      <td>自分でサービスを開発できるようになりたい</td>\n",
       "      <td>すぐにでも受講したい</td>\n",
       "      <td>事務職</td>\n",
       "      <td>0</td>\n",
       "      <td>0</td>\n",
       "      <td>1</td>\n",
       "      <td>0</td>\n",
       "    </tr>\n",
       "    <tr>\n",
       "      <th>5</th>\n",
       "      <td>28159</td>\n",
       "      <td>転職は考えていない</td>\n",
       "      <td>副業、フリーランスで稼げるようになりたい</td>\n",
       "      <td>受講は検討していない</td>\n",
       "      <td>財務・経理</td>\n",
       "      <td>0</td>\n",
       "      <td>1</td>\n",
       "      <td>0</td>\n",
       "      <td>0</td>\n",
       "    </tr>\n",
       "  </tbody>\n",
       "</table>\n",
       "</div>"
      ],
      "text/plain": [
       "   user_id interest_for_job_changing               purpose             status  \\\n",
       "0    13278                 転職は考えていない                   無回答      プログラミングに興味がある   \n",
       "1    20699            IT業界への転職に興味がある  自分でサービスを開発できるようになりたい         受講は検討していない   \n",
       "2    34660            IT業界への転職に興味がある            今の仕事に活かしたい  3ヶ月よりも後に受講を検討している   \n",
       "4    26650                 転職は考えていない  自分でサービスを開発できるようになりたい         すぐにでも受講したい   \n",
       "5    28159                 転職は考えていない  副業、フリーランスで稼げるようになりたい         受講は検討していない   \n",
       "\n",
       "   occupation  result  conflict_school_検討していない  conflict_school_検討している  \\\n",
       "0  企画・マーケティング       0                        0                       0   \n",
       "1         事務職       0                        1                       0   \n",
       "2         教職員       0                        1                       0   \n",
       "4         事務職       0                        0                       1   \n",
       "5       財務・経理       0                        1                       0   \n",
       "\n",
       "   conflict_school_無回答  \n",
       "0                    1  \n",
       "1                    0  \n",
       "2                    0  \n",
       "4                    0  \n",
       "5                    0  "
      ]
     },
     "execution_count": 12,
     "metadata": {},
     "output_type": "execute_result"
    }
   ],
   "source": [
    "df.head()"
   ]
  },
  {
   "cell_type": "code",
   "execution_count": null,
   "id": "5241c7b8-a2ca-47ea-9391-3ec786a8ce5a",
   "metadata": {},
   "outputs": [],
   "source": []
  }
 ],
 "metadata": {
  "kernelspec": {
   "display_name": "Python 3 (ipykernel)",
   "language": "python",
   "name": "python3"
  },
  "language_info": {
   "codemirror_mode": {
    "name": "ipython",
    "version": 3
   },
   "file_extension": ".py",
   "mimetype": "text/x-python",
   "name": "python",
   "nbconvert_exporter": "python",
   "pygments_lexer": "ipython3",
   "version": "3.10.2"
  }
 },
 "nbformat": 4,
 "nbformat_minor": 5
}
