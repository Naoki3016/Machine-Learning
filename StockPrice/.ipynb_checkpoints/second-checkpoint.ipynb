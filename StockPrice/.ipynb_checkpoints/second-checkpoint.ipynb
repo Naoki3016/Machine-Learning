{
 "cells": [
  {
   "cell_type": "code",
   "execution_count": 105,
   "id": "753956e2-c4b0-4b1b-905f-a9916ef31a5c",
   "metadata": {},
   "outputs": [],
   "source": [
    "import numpy as np\n",
    "import pandas as pd\n",
    "%matplotlib inline\n",
    "import matplotlib.pyplot as plt\n",
    "import matplotlib as mlt"
   ]
  },
  {
   "cell_type": "code",
   "execution_count": 106,
   "id": "82f818eb-d93c-4ad4-b02e-6c88d46e4fa2",
   "metadata": {
    "tags": []
   },
   "outputs": [
    {
     "data": {
      "text/html": [
       "<div>\n",
       "<style scoped>\n",
       "    .dataframe tbody tr th:only-of-type {\n",
       "        vertical-align: middle;\n",
       "    }\n",
       "\n",
       "    .dataframe tbody tr th {\n",
       "        vertical-align: top;\n",
       "    }\n",
       "\n",
       "    .dataframe thead th {\n",
       "        text-align: right;\n",
       "    }\n",
       "</style>\n",
       "<table border=\"1\" class=\"dataframe\">\n",
       "  <thead>\n",
       "    <tr style=\"text-align: right;\">\n",
       "      <th></th>\n",
       "      <th>日付</th>\n",
       "      <th>始値</th>\n",
       "      <th>安値</th>\n",
       "      <th>高値</th>\n",
       "      <th>終値</th>\n",
       "    </tr>\n",
       "  </thead>\n",
       "  <tbody>\n",
       "    <tr>\n",
       "      <th>0</th>\n",
       "      <td>2019年4月9日</td>\n",
       "      <td>21,750.29</td>\n",
       "      <td>21,811.88</td>\n",
       "      <td>21,698.42</td>\n",
       "      <td>21,802.59</td>\n",
       "    </tr>\n",
       "    <tr>\n",
       "      <th>1</th>\n",
       "      <td>2019年4月8日</td>\n",
       "      <td>21,900.55</td>\n",
       "      <td>21,900.55</td>\n",
       "      <td>21,740.53</td>\n",
       "      <td>21,761.65</td>\n",
       "    </tr>\n",
       "    <tr>\n",
       "      <th>2</th>\n",
       "      <td>2019年4月5日</td>\n",
       "      <td>21,743.14</td>\n",
       "      <td>21,839.18</td>\n",
       "      <td>21,731.34</td>\n",
       "      <td>21,807.5</td>\n",
       "    </tr>\n",
       "    <tr>\n",
       "      <th>3</th>\n",
       "      <td>2019年4月4日</td>\n",
       "      <td>21,724.69</td>\n",
       "      <td>21,787.6</td>\n",
       "      <td>21,662.9</td>\n",
       "      <td>21,724.95</td>\n",
       "    </tr>\n",
       "    <tr>\n",
       "      <th>4</th>\n",
       "      <td>2019年4月3日</td>\n",
       "      <td>21,563.64</td>\n",
       "      <td>21,722.72</td>\n",
       "      <td>21,489.95</td>\n",
       "      <td>21,713.21</td>\n",
       "    </tr>\n",
       "    <tr>\n",
       "      <th>5</th>\n",
       "      <td>2019年4月2日</td>\n",
       "      <td>21,744.64</td>\n",
       "      <td>21,744.64</td>\n",
       "      <td>21,490.56</td>\n",
       "      <td>21,505.31</td>\n",
       "    </tr>\n",
       "    <tr>\n",
       "      <th>6</th>\n",
       "      <td>2019年4月1日</td>\n",
       "      <td>21,500.89</td>\n",
       "      <td>21,682.94</td>\n",
       "      <td>21,471.12</td>\n",
       "      <td>21,509.03</td>\n",
       "    </tr>\n",
       "    <tr>\n",
       "      <th>7</th>\n",
       "      <td>2019年3月29日</td>\n",
       "      <td>21,228.51</td>\n",
       "      <td>21,267.25</td>\n",
       "      <td>21,149.42</td>\n",
       "      <td>21,205.81</td>\n",
       "    </tr>\n",
       "    <tr>\n",
       "      <th>8</th>\n",
       "      <td>2019年3月28日</td>\n",
       "      <td>21,191.32</td>\n",
       "      <td>21,191.32</td>\n",
       "      <td>20,974.19</td>\n",
       "      <td>21,033.76</td>\n",
       "    </tr>\n",
       "    <tr>\n",
       "      <th>9</th>\n",
       "      <td>2019年3月27日</td>\n",
       "      <td>21,353.61</td>\n",
       "      <td>21,388.59</td>\n",
       "      <td>21,242.52</td>\n",
       "      <td>21,378.73</td>\n",
       "    </tr>\n",
       "    <tr>\n",
       "      <th>10</th>\n",
       "      <td>日付</td>\n",
       "      <td>始値</td>\n",
       "      <td>安値</td>\n",
       "      <td>高値</td>\n",
       "      <td>終値</td>\n",
       "    </tr>\n",
       "    <tr>\n",
       "      <th>11</th>\n",
       "      <td>2019年3月26日</td>\n",
       "      <td>21,174.34</td>\n",
       "      <td>21,460.99</td>\n",
       "      <td>21,174.34</td>\n",
       "      <td>21,428.39</td>\n",
       "    </tr>\n",
       "    <tr>\n",
       "      <th>12</th>\n",
       "      <td>2019年3月25日</td>\n",
       "      <td>21,267.41</td>\n",
       "      <td>21,275.43</td>\n",
       "      <td>20,911.57</td>\n",
       "      <td>20,977.11</td>\n",
       "    </tr>\n",
       "    <tr>\n",
       "      <th>13</th>\n",
       "      <td>2019年3月22日</td>\n",
       "      <td>21,713.26</td>\n",
       "      <td>21,713.26</td>\n",
       "      <td>21,542.03</td>\n",
       "      <td>21,627.34</td>\n",
       "    </tr>\n",
       "    <tr>\n",
       "      <th>14</th>\n",
       "      <td>2019年3月20日</td>\n",
       "      <td>21,548.65</td>\n",
       "      <td>21,614.17</td>\n",
       "      <td>21,499.16</td>\n",
       "      <td>21,608.92</td>\n",
       "    </tr>\n",
       "    <tr>\n",
       "      <th>15</th>\n",
       "      <td>2019年3月19日</td>\n",
       "      <td>21,558.43</td>\n",
       "      <td>21,585.55</td>\n",
       "      <td>21,425.79</td>\n",
       "      <td>21,566.85</td>\n",
       "    </tr>\n",
       "    <tr>\n",
       "      <th>16</th>\n",
       "      <td>2019年3月18日</td>\n",
       "      <td>21,576.36</td>\n",
       "      <td>21,612.67</td>\n",
       "      <td>21,500.32</td>\n",
       "      <td>21,584.5</td>\n",
       "    </tr>\n",
       "    <tr>\n",
       "      <th>17</th>\n",
       "      <td>2019年3月15日</td>\n",
       "      <td>21,376.73</td>\n",
       "      <td>21,521.68</td>\n",
       "      <td>21,374.85</td>\n",
       "      <td>21,450.85</td>\n",
       "    </tr>\n",
       "    <tr>\n",
       "      <th>18</th>\n",
       "      <td>2019年3月14日</td>\n",
       "      <td>21,474.58</td>\n",
       "      <td>21,522.75</td>\n",
       "      <td>21,287.02</td>\n",
       "      <td>21,287.02</td>\n",
       "    </tr>\n",
       "    <tr>\n",
       "      <th>19</th>\n",
       "      <td>2019年3月13日</td>\n",
       "      <td>21,425.77</td>\n",
       "      <td>21,474.17</td>\n",
       "      <td>21,198.99</td>\n",
       "      <td>21,290.24</td>\n",
       "    </tr>\n",
       "    <tr>\n",
       "      <th>20</th>\n",
       "      <td>2019年3月12日</td>\n",
       "      <td>21,361.61</td>\n",
       "      <td>21,568.48</td>\n",
       "      <td>21,348.81</td>\n",
       "      <td>21,503.69</td>\n",
       "    </tr>\n",
       "    <tr>\n",
       "      <th>21</th>\n",
       "      <td>日付</td>\n",
       "      <td>始値</td>\n",
       "      <td>安値</td>\n",
       "      <td>高値</td>\n",
       "      <td>終値</td>\n",
       "    </tr>\n",
       "    <tr>\n",
       "      <th>22</th>\n",
       "      <td>2019年3月11日</td>\n",
       "      <td>21,062.75</td>\n",
       "      <td>21,145.94</td>\n",
       "      <td>20,938</td>\n",
       "      <td>21,125.09</td>\n",
       "    </tr>\n",
       "    <tr>\n",
       "      <th>23</th>\n",
       "      <td>2019年3月8日</td>\n",
       "      <td>21,339.17</td>\n",
       "      <td>21,359.32</td>\n",
       "      <td>20,993.07</td>\n",
       "      <td>21,025.56</td>\n",
       "    </tr>\n",
       "    <tr>\n",
       "      <th>24</th>\n",
       "      <td>2019年3月7日</td>\n",
       "      <td>21,456.88</td>\n",
       "      <td>21,472.16</td>\n",
       "      <td>21,402.12</td>\n",
       "      <td>21,456.01</td>\n",
       "    </tr>\n",
       "    <tr>\n",
       "      <th>25</th>\n",
       "      <td>2019年3月6日</td>\n",
       "      <td>21,659.03</td>\n",
       "      <td>21,684.6</td>\n",
       "      <td>21,550.45</td>\n",
       "      <td>21,596.81</td>\n",
       "    </tr>\n",
       "    <tr>\n",
       "      <th>26</th>\n",
       "      <td>2019年3月5日</td>\n",
       "      <td>21,712.8</td>\n",
       "      <td>21,798.38</td>\n",
       "      <td>21,659.04</td>\n",
       "      <td>21,726.28</td>\n",
       "    </tr>\n",
       "    <tr>\n",
       "      <th>27</th>\n",
       "      <td>2019年3月4日</td>\n",
       "      <td>21,812.81</td>\n",
       "      <td>21,860.39</td>\n",
       "      <td>21,740.92</td>\n",
       "      <td>21,822.04</td>\n",
       "    </tr>\n",
       "    <tr>\n",
       "      <th>28</th>\n",
       "      <td>2019年3月1日</td>\n",
       "      <td>21,490.02</td>\n",
       "      <td>21,641.58</td>\n",
       "      <td>21,490.02</td>\n",
       "      <td>21,602.69</td>\n",
       "    </tr>\n",
       "    <tr>\n",
       "      <th>29</th>\n",
       "      <td>2019年2月28日</td>\n",
       "      <td>21,536.55</td>\n",
       "      <td>21,536.55</td>\n",
       "      <td>21,364.09</td>\n",
       "      <td>21,385.16</td>\n",
       "    </tr>\n",
       "  </tbody>\n",
       "</table>\n",
       "</div>"
      ],
      "text/plain": [
       "            日付         始値         安値         高値         終値\n",
       "0    2019年4月9日  21,750.29  21,811.88  21,698.42  21,802.59\n",
       "1    2019年4月8日  21,900.55  21,900.55  21,740.53  21,761.65\n",
       "2    2019年4月5日  21,743.14  21,839.18  21,731.34   21,807.5\n",
       "3    2019年4月4日  21,724.69   21,787.6   21,662.9  21,724.95\n",
       "4    2019年4月3日  21,563.64  21,722.72  21,489.95  21,713.21\n",
       "5    2019年4月2日  21,744.64  21,744.64  21,490.56  21,505.31\n",
       "6    2019年4月1日  21,500.89  21,682.94  21,471.12  21,509.03\n",
       "7   2019年3月29日  21,228.51  21,267.25  21,149.42  21,205.81\n",
       "8   2019年3月28日  21,191.32  21,191.32  20,974.19  21,033.76\n",
       "9   2019年3月27日  21,353.61  21,388.59  21,242.52  21,378.73\n",
       "10          日付         始値         安値         高値         終値\n",
       "11  2019年3月26日  21,174.34  21,460.99  21,174.34  21,428.39\n",
       "12  2019年3月25日  21,267.41  21,275.43  20,911.57  20,977.11\n",
       "13  2019年3月22日  21,713.26  21,713.26  21,542.03  21,627.34\n",
       "14  2019年3月20日  21,548.65  21,614.17  21,499.16  21,608.92\n",
       "15  2019年3月19日  21,558.43  21,585.55  21,425.79  21,566.85\n",
       "16  2019年3月18日  21,576.36  21,612.67  21,500.32   21,584.5\n",
       "17  2019年3月15日  21,376.73  21,521.68  21,374.85  21,450.85\n",
       "18  2019年3月14日  21,474.58  21,522.75  21,287.02  21,287.02\n",
       "19  2019年3月13日  21,425.77  21,474.17  21,198.99  21,290.24\n",
       "20  2019年3月12日  21,361.61  21,568.48  21,348.81  21,503.69\n",
       "21          日付         始値         安値         高値         終値\n",
       "22  2019年3月11日  21,062.75  21,145.94     20,938  21,125.09\n",
       "23   2019年3月8日  21,339.17  21,359.32  20,993.07  21,025.56\n",
       "24   2019年3月7日  21,456.88  21,472.16  21,402.12  21,456.01\n",
       "25   2019年3月6日  21,659.03   21,684.6  21,550.45  21,596.81\n",
       "26   2019年3月5日   21,712.8  21,798.38  21,659.04  21,726.28\n",
       "27   2019年3月4日  21,812.81  21,860.39  21,740.92  21,822.04\n",
       "28   2019年3月1日  21,490.02  21,641.58  21,490.02  21,602.69\n",
       "29  2019年2月28日  21,536.55  21,536.55  21,364.09  21,385.16"
      ]
     },
     "execution_count": 106,
     "metadata": {},
     "output_type": "execute_result"
    }
   ],
   "source": [
    "df = pd.read_csv('output.csv')\n",
    "df.head(30)"
   ]
  },
  {
   "cell_type": "code",
   "execution_count": 107,
   "id": "0b50a8cf-17ba-47fa-865c-72cb97a0a06e",
   "metadata": {
    "tags": []
   },
   "outputs": [
    {
     "data": {
      "text/html": [
       "<div>\n",
       "<style scoped>\n",
       "    .dataframe tbody tr th:only-of-type {\n",
       "        vertical-align: middle;\n",
       "    }\n",
       "\n",
       "    .dataframe tbody tr th {\n",
       "        vertical-align: top;\n",
       "    }\n",
       "\n",
       "    .dataframe thead th {\n",
       "        text-align: right;\n",
       "    }\n",
       "</style>\n",
       "<table border=\"1\" class=\"dataframe\">\n",
       "  <thead>\n",
       "    <tr style=\"text-align: right;\">\n",
       "      <th></th>\n",
       "      <th>日付</th>\n",
       "      <th>始値</th>\n",
       "      <th>安値</th>\n",
       "      <th>高値</th>\n",
       "      <th>終値</th>\n",
       "    </tr>\n",
       "  </thead>\n",
       "  <tbody>\n",
       "    <tr>\n",
       "      <th>0</th>\n",
       "      <td>2019年4月9日</td>\n",
       "      <td>21,750.29</td>\n",
       "      <td>21,811.88</td>\n",
       "      <td>21,698.42</td>\n",
       "      <td>21,802.59</td>\n",
       "    </tr>\n",
       "    <tr>\n",
       "      <th>1</th>\n",
       "      <td>2019年4月8日</td>\n",
       "      <td>21,900.55</td>\n",
       "      <td>21,900.55</td>\n",
       "      <td>21,740.53</td>\n",
       "      <td>21,761.65</td>\n",
       "    </tr>\n",
       "    <tr>\n",
       "      <th>2</th>\n",
       "      <td>2019年4月5日</td>\n",
       "      <td>21,743.14</td>\n",
       "      <td>21,839.18</td>\n",
       "      <td>21,731.34</td>\n",
       "      <td>21,807.5</td>\n",
       "    </tr>\n",
       "    <tr>\n",
       "      <th>3</th>\n",
       "      <td>2019年4月4日</td>\n",
       "      <td>21,724.69</td>\n",
       "      <td>21,787.6</td>\n",
       "      <td>21,662.9</td>\n",
       "      <td>21,724.95</td>\n",
       "    </tr>\n",
       "    <tr>\n",
       "      <th>4</th>\n",
       "      <td>2019年4月3日</td>\n",
       "      <td>21,563.64</td>\n",
       "      <td>21,722.72</td>\n",
       "      <td>21,489.95</td>\n",
       "      <td>21,713.21</td>\n",
       "    </tr>\n",
       "    <tr>\n",
       "      <th>5</th>\n",
       "      <td>2019年4月2日</td>\n",
       "      <td>21,744.64</td>\n",
       "      <td>21,744.64</td>\n",
       "      <td>21,490.56</td>\n",
       "      <td>21,505.31</td>\n",
       "    </tr>\n",
       "    <tr>\n",
       "      <th>6</th>\n",
       "      <td>2019年4月1日</td>\n",
       "      <td>21,500.89</td>\n",
       "      <td>21,682.94</td>\n",
       "      <td>21,471.12</td>\n",
       "      <td>21,509.03</td>\n",
       "    </tr>\n",
       "    <tr>\n",
       "      <th>7</th>\n",
       "      <td>2019年3月29日</td>\n",
       "      <td>21,228.51</td>\n",
       "      <td>21,267.25</td>\n",
       "      <td>21,149.42</td>\n",
       "      <td>21,205.81</td>\n",
       "    </tr>\n",
       "    <tr>\n",
       "      <th>8</th>\n",
       "      <td>2019年3月28日</td>\n",
       "      <td>21,191.32</td>\n",
       "      <td>21,191.32</td>\n",
       "      <td>20,974.19</td>\n",
       "      <td>21,033.76</td>\n",
       "    </tr>\n",
       "    <tr>\n",
       "      <th>9</th>\n",
       "      <td>2019年3月27日</td>\n",
       "      <td>21,353.61</td>\n",
       "      <td>21,388.59</td>\n",
       "      <td>21,242.52</td>\n",
       "      <td>21,378.73</td>\n",
       "    </tr>\n",
       "    <tr>\n",
       "      <th>11</th>\n",
       "      <td>2019年3月26日</td>\n",
       "      <td>21,174.34</td>\n",
       "      <td>21,460.99</td>\n",
       "      <td>21,174.34</td>\n",
       "      <td>21,428.39</td>\n",
       "    </tr>\n",
       "    <tr>\n",
       "      <th>12</th>\n",
       "      <td>2019年3月25日</td>\n",
       "      <td>21,267.41</td>\n",
       "      <td>21,275.43</td>\n",
       "      <td>20,911.57</td>\n",
       "      <td>20,977.11</td>\n",
       "    </tr>\n",
       "    <tr>\n",
       "      <th>13</th>\n",
       "      <td>2019年3月22日</td>\n",
       "      <td>21,713.26</td>\n",
       "      <td>21,713.26</td>\n",
       "      <td>21,542.03</td>\n",
       "      <td>21,627.34</td>\n",
       "    </tr>\n",
       "    <tr>\n",
       "      <th>14</th>\n",
       "      <td>2019年3月20日</td>\n",
       "      <td>21,548.65</td>\n",
       "      <td>21,614.17</td>\n",
       "      <td>21,499.16</td>\n",
       "      <td>21,608.92</td>\n",
       "    </tr>\n",
       "    <tr>\n",
       "      <th>15</th>\n",
       "      <td>2019年3月19日</td>\n",
       "      <td>21,558.43</td>\n",
       "      <td>21,585.55</td>\n",
       "      <td>21,425.79</td>\n",
       "      <td>21,566.85</td>\n",
       "    </tr>\n",
       "    <tr>\n",
       "      <th>16</th>\n",
       "      <td>2019年3月18日</td>\n",
       "      <td>21,576.36</td>\n",
       "      <td>21,612.67</td>\n",
       "      <td>21,500.32</td>\n",
       "      <td>21,584.5</td>\n",
       "    </tr>\n",
       "    <tr>\n",
       "      <th>17</th>\n",
       "      <td>2019年3月15日</td>\n",
       "      <td>21,376.73</td>\n",
       "      <td>21,521.68</td>\n",
       "      <td>21,374.85</td>\n",
       "      <td>21,450.85</td>\n",
       "    </tr>\n",
       "    <tr>\n",
       "      <th>18</th>\n",
       "      <td>2019年3月14日</td>\n",
       "      <td>21,474.58</td>\n",
       "      <td>21,522.75</td>\n",
       "      <td>21,287.02</td>\n",
       "      <td>21,287.02</td>\n",
       "    </tr>\n",
       "    <tr>\n",
       "      <th>19</th>\n",
       "      <td>2019年3月13日</td>\n",
       "      <td>21,425.77</td>\n",
       "      <td>21,474.17</td>\n",
       "      <td>21,198.99</td>\n",
       "      <td>21,290.24</td>\n",
       "    </tr>\n",
       "    <tr>\n",
       "      <th>20</th>\n",
       "      <td>2019年3月12日</td>\n",
       "      <td>21,361.61</td>\n",
       "      <td>21,568.48</td>\n",
       "      <td>21,348.81</td>\n",
       "      <td>21,503.69</td>\n",
       "    </tr>\n",
       "    <tr>\n",
       "      <th>22</th>\n",
       "      <td>2019年3月11日</td>\n",
       "      <td>21,062.75</td>\n",
       "      <td>21,145.94</td>\n",
       "      <td>20,938</td>\n",
       "      <td>21,125.09</td>\n",
       "    </tr>\n",
       "    <tr>\n",
       "      <th>23</th>\n",
       "      <td>2019年3月8日</td>\n",
       "      <td>21,339.17</td>\n",
       "      <td>21,359.32</td>\n",
       "      <td>20,993.07</td>\n",
       "      <td>21,025.56</td>\n",
       "    </tr>\n",
       "    <tr>\n",
       "      <th>24</th>\n",
       "      <td>2019年3月7日</td>\n",
       "      <td>21,456.88</td>\n",
       "      <td>21,472.16</td>\n",
       "      <td>21,402.12</td>\n",
       "      <td>21,456.01</td>\n",
       "    </tr>\n",
       "    <tr>\n",
       "      <th>25</th>\n",
       "      <td>2019年3月6日</td>\n",
       "      <td>21,659.03</td>\n",
       "      <td>21,684.6</td>\n",
       "      <td>21,550.45</td>\n",
       "      <td>21,596.81</td>\n",
       "    </tr>\n",
       "    <tr>\n",
       "      <th>26</th>\n",
       "      <td>2019年3月5日</td>\n",
       "      <td>21,712.8</td>\n",
       "      <td>21,798.38</td>\n",
       "      <td>21,659.04</td>\n",
       "      <td>21,726.28</td>\n",
       "    </tr>\n",
       "    <tr>\n",
       "      <th>27</th>\n",
       "      <td>2019年3月4日</td>\n",
       "      <td>21,812.81</td>\n",
       "      <td>21,860.39</td>\n",
       "      <td>21,740.92</td>\n",
       "      <td>21,822.04</td>\n",
       "    </tr>\n",
       "    <tr>\n",
       "      <th>28</th>\n",
       "      <td>2019年3月1日</td>\n",
       "      <td>21,490.02</td>\n",
       "      <td>21,641.58</td>\n",
       "      <td>21,490.02</td>\n",
       "      <td>21,602.69</td>\n",
       "    </tr>\n",
       "    <tr>\n",
       "      <th>29</th>\n",
       "      <td>2019年2月28日</td>\n",
       "      <td>21,536.55</td>\n",
       "      <td>21,536.55</td>\n",
       "      <td>21,364.09</td>\n",
       "      <td>21,385.16</td>\n",
       "    </tr>\n",
       "    <tr>\n",
       "      <th>30</th>\n",
       "      <td>2019年2月27日</td>\n",
       "      <td>21,504.61</td>\n",
       "      <td>21,578.81</td>\n",
       "      <td>21,492.65</td>\n",
       "      <td>21,556.51</td>\n",
       "    </tr>\n",
       "    <tr>\n",
       "      <th>31</th>\n",
       "      <td>2019年2月26日</td>\n",
       "      <td>21,556.02</td>\n",
       "      <td>21,610.88</td>\n",
       "      <td>21,405.84</td>\n",
       "      <td>21,449.39</td>\n",
       "    </tr>\n",
       "  </tbody>\n",
       "</table>\n",
       "</div>"
      ],
      "text/plain": [
       "            日付         始値         安値         高値         終値\n",
       "0    2019年4月9日  21,750.29  21,811.88  21,698.42  21,802.59\n",
       "1    2019年4月8日  21,900.55  21,900.55  21,740.53  21,761.65\n",
       "2    2019年4月5日  21,743.14  21,839.18  21,731.34   21,807.5\n",
       "3    2019年4月4日  21,724.69   21,787.6   21,662.9  21,724.95\n",
       "4    2019年4月3日  21,563.64  21,722.72  21,489.95  21,713.21\n",
       "5    2019年4月2日  21,744.64  21,744.64  21,490.56  21,505.31\n",
       "6    2019年4月1日  21,500.89  21,682.94  21,471.12  21,509.03\n",
       "7   2019年3月29日  21,228.51  21,267.25  21,149.42  21,205.81\n",
       "8   2019年3月28日  21,191.32  21,191.32  20,974.19  21,033.76\n",
       "9   2019年3月27日  21,353.61  21,388.59  21,242.52  21,378.73\n",
       "11  2019年3月26日  21,174.34  21,460.99  21,174.34  21,428.39\n",
       "12  2019年3月25日  21,267.41  21,275.43  20,911.57  20,977.11\n",
       "13  2019年3月22日  21,713.26  21,713.26  21,542.03  21,627.34\n",
       "14  2019年3月20日  21,548.65  21,614.17  21,499.16  21,608.92\n",
       "15  2019年3月19日  21,558.43  21,585.55  21,425.79  21,566.85\n",
       "16  2019年3月18日  21,576.36  21,612.67  21,500.32   21,584.5\n",
       "17  2019年3月15日  21,376.73  21,521.68  21,374.85  21,450.85\n",
       "18  2019年3月14日  21,474.58  21,522.75  21,287.02  21,287.02\n",
       "19  2019年3月13日  21,425.77  21,474.17  21,198.99  21,290.24\n",
       "20  2019年3月12日  21,361.61  21,568.48  21,348.81  21,503.69\n",
       "22  2019年3月11日  21,062.75  21,145.94     20,938  21,125.09\n",
       "23   2019年3月8日  21,339.17  21,359.32  20,993.07  21,025.56\n",
       "24   2019年3月7日  21,456.88  21,472.16  21,402.12  21,456.01\n",
       "25   2019年3月6日  21,659.03   21,684.6  21,550.45  21,596.81\n",
       "26   2019年3月5日   21,712.8  21,798.38  21,659.04  21,726.28\n",
       "27   2019年3月4日  21,812.81  21,860.39  21,740.92  21,822.04\n",
       "28   2019年3月1日  21,490.02  21,641.58  21,490.02  21,602.69\n",
       "29  2019年2月28日  21,536.55  21,536.55  21,364.09  21,385.16\n",
       "30  2019年2月27日  21,504.61  21,578.81  21,492.65  21,556.51\n",
       "31  2019年2月26日  21,556.02  21,610.88  21,405.84  21,449.39"
      ]
     },
     "execution_count": 107,
     "metadata": {},
     "output_type": "execute_result"
    }
   ],
   "source": [
    "# 余計な文字が入っている行の削除\n",
    "df = df[df['終値'] != \"終値\"]\n",
    "df.head(30)"
   ]
  },
  {
   "cell_type": "code",
   "execution_count": 108,
   "id": "3458cc28-5156-40a2-8612-c95fa9480e02",
   "metadata": {
    "jupyter": {
     "source_hidden": true
    },
    "tags": []
   },
   "outputs": [
    {
     "data": {
      "text/html": [
       "<div>\n",
       "<style scoped>\n",
       "    .dataframe tbody tr th:only-of-type {\n",
       "        vertical-align: middle;\n",
       "    }\n",
       "\n",
       "    .dataframe tbody tr th {\n",
       "        vertical-align: top;\n",
       "    }\n",
       "\n",
       "    .dataframe thead th {\n",
       "        text-align: right;\n",
       "    }\n",
       "</style>\n",
       "<table border=\"1\" class=\"dataframe\">\n",
       "  <thead>\n",
       "    <tr style=\"text-align: right;\">\n",
       "      <th></th>\n",
       "      <th>日付</th>\n",
       "      <th>始値</th>\n",
       "      <th>安値</th>\n",
       "      <th>高値</th>\n",
       "      <th>終値</th>\n",
       "    </tr>\n",
       "  </thead>\n",
       "  <tbody>\n",
       "    <tr>\n",
       "      <th>268</th>\n",
       "      <td>2018年4月10日</td>\n",
       "      <td>21,599.67</td>\n",
       "      <td>21,933.99</td>\n",
       "      <td>21,542.37</td>\n",
       "      <td>21,794.32</td>\n",
       "    </tr>\n",
       "    <tr>\n",
       "      <th>267</th>\n",
       "      <td>2018年4月11日</td>\n",
       "      <td>21,819.09</td>\n",
       "      <td>21,837.36</td>\n",
       "      <td>21,687.1</td>\n",
       "      <td>21,687.1</td>\n",
       "    </tr>\n",
       "    <tr>\n",
       "      <th>266</th>\n",
       "      <td>2018年4月12日</td>\n",
       "      <td>21,657.87</td>\n",
       "      <td>21,719.43</td>\n",
       "      <td>21,591.39</td>\n",
       "      <td>21,660.28</td>\n",
       "    </tr>\n",
       "    <tr>\n",
       "      <th>265</th>\n",
       "      <td>2018年4月13日</td>\n",
       "      <td>21,801.41</td>\n",
       "      <td>21,917.35</td>\n",
       "      <td>21,746.69</td>\n",
       "      <td>21,778.74</td>\n",
       "    </tr>\n",
       "    <tr>\n",
       "      <th>264</th>\n",
       "      <td>2018年4月16日</td>\n",
       "      <td>21,843.55</td>\n",
       "      <td>21,879.69</td>\n",
       "      <td>21,775.61</td>\n",
       "      <td>21,835.53</td>\n",
       "    </tr>\n",
       "    <tr>\n",
       "      <th>...</th>\n",
       "      <td>...</td>\n",
       "      <td>...</td>\n",
       "      <td>...</td>\n",
       "      <td>...</td>\n",
       "      <td>...</td>\n",
       "    </tr>\n",
       "    <tr>\n",
       "      <th>4</th>\n",
       "      <td>2019年4月3日</td>\n",
       "      <td>21,563.64</td>\n",
       "      <td>21,722.72</td>\n",
       "      <td>21,489.95</td>\n",
       "      <td>21,713.21</td>\n",
       "    </tr>\n",
       "    <tr>\n",
       "      <th>3</th>\n",
       "      <td>2019年4月4日</td>\n",
       "      <td>21,724.69</td>\n",
       "      <td>21,787.6</td>\n",
       "      <td>21,662.9</td>\n",
       "      <td>21,724.95</td>\n",
       "    </tr>\n",
       "    <tr>\n",
       "      <th>2</th>\n",
       "      <td>2019年4月5日</td>\n",
       "      <td>21,743.14</td>\n",
       "      <td>21,839.18</td>\n",
       "      <td>21,731.34</td>\n",
       "      <td>21,807.5</td>\n",
       "    </tr>\n",
       "    <tr>\n",
       "      <th>1</th>\n",
       "      <td>2019年4月8日</td>\n",
       "      <td>21,900.55</td>\n",
       "      <td>21,900.55</td>\n",
       "      <td>21,740.53</td>\n",
       "      <td>21,761.65</td>\n",
       "    </tr>\n",
       "    <tr>\n",
       "      <th>0</th>\n",
       "      <td>2019年4月9日</td>\n",
       "      <td>21,750.29</td>\n",
       "      <td>21,811.88</td>\n",
       "      <td>21,698.42</td>\n",
       "      <td>21,802.59</td>\n",
       "    </tr>\n",
       "  </tbody>\n",
       "</table>\n",
       "<p>245 rows × 5 columns</p>\n",
       "</div>"
      ],
      "text/plain": [
       "             日付         始値         安値         高値         終値\n",
       "268  2018年4月10日  21,599.67  21,933.99  21,542.37  21,794.32\n",
       "267  2018年4月11日  21,819.09  21,837.36   21,687.1   21,687.1\n",
       "266  2018年4月12日  21,657.87  21,719.43  21,591.39  21,660.28\n",
       "265  2018年4月13日  21,801.41  21,917.35  21,746.69  21,778.74\n",
       "264  2018年4月16日  21,843.55  21,879.69  21,775.61  21,835.53\n",
       "..          ...        ...        ...        ...        ...\n",
       "4     2019年4月3日  21,563.64  21,722.72  21,489.95  21,713.21\n",
       "3     2019年4月4日  21,724.69   21,787.6   21,662.9  21,724.95\n",
       "2     2019年4月5日  21,743.14  21,839.18  21,731.34   21,807.5\n",
       "1     2019年4月8日  21,900.55  21,900.55  21,740.53  21,761.65\n",
       "0     2019年4月9日  21,750.29  21,811.88  21,698.42  21,802.59\n",
       "\n",
       "[245 rows x 5 columns]"
      ]
     },
     "execution_count": 108,
     "metadata": {},
     "output_type": "execute_result"
    }
   ],
   "source": [
    "# データの順番入れ替え\n",
    "df = df.sort_index(ascending=False)\n",
    "df"
   ]
  },
  {
   "cell_type": "code",
   "execution_count": 109,
   "id": "051a9523-9ef1-4b42-a5f0-8769eac9dfcc",
   "metadata": {
    "tags": []
   },
   "outputs": [
    {
     "data": {
      "text/plain": [
       "268    21,794.32\n",
       "267     21,687.1\n",
       "266    21,660.28\n",
       "265    21,778.74\n",
       "264    21,835.53\n",
       "         ...    \n",
       "4      21,713.21\n",
       "3      21,724.95\n",
       "2       21,807.5\n",
       "1      21,761.65\n",
       "0      21,802.59\n",
       "Name: 終値, Length: 245, dtype: object"
      ]
     },
     "execution_count": 109,
     "metadata": {},
     "output_type": "execute_result"
    }
   ],
   "source": [
    "df1 = df['終値']\n",
    "df1"
   ]
  },
  {
   "cell_type": "code",
   "execution_count": 110,
   "id": "c39e88b8-fe80-4a17-9481-b411d5dbf5fe",
   "metadata": {
    "tags": []
   },
   "outputs": [],
   "source": [
    "df1 = df1.str.replace(',','').astype(float)\n",
    "df1 = df1.tolist()\n",
    "df1 = pd.Series(df1)\n",
    "df1 = df1.dropna()"
   ]
  },
  {
   "cell_type": "code",
   "execution_count": 111,
   "id": "3bae254b-2575-4a15-8ef0-23084056de65",
   "metadata": {},
   "outputs": [],
   "source": [
    "train_year = df1.iloc[0:150]\n",
    "test_year = df1.iloc[150:len(df1)-6]\n",
    "interval = 5"
   ]
  },
  {
   "cell_type": "code",
   "execution_count": 112,
   "id": "25490323-0202-461f-b453-3450f1111408",
   "metadata": {},
   "outputs": [],
   "source": [
    "def make_data(data):\n",
    "    x=[]\n",
    "    y=[]\n",
    "    temps = list(data)\n",
    "    for i in range(len(temps)):\n",
    "        if i < interval: continue\n",
    "        y.append(temps[i])\n",
    "        xa=[]\n",
    "        for p in range(interval):\n",
    "            d = i + p -interval\n",
    "            xa.append(temps[d])\n",
    "        x.append(xa)\n",
    "    return(x,y)"
   ]
  },
  {
   "cell_type": "code",
   "execution_count": 113,
   "id": "5a36c217-44db-4291-864c-302e49940141",
   "metadata": {},
   "outputs": [],
   "source": [
    "train_x, train_y = make_data(train_year)\n",
    "test_x,test_y = make_data(test_year)"
   ]
  },
  {
   "cell_type": "code",
   "execution_count": 114,
   "id": "0f5a3ea3-edd0-4d8d-90ee-6b7d11599086",
   "metadata": {},
   "outputs": [],
   "source": [
    "# 株価の上昇率\n",
    "consts=len(df1)\n",
    "modified_data = []\n",
    "for i in range(1,consts):\n",
    "    modified_data.append(float(df1[i]-df1[i-1])/float(df1[i-1]))\n",
    "count_m = len(modified_data)"
   ]
  },
  {
   "cell_type": "code",
   "execution_count": 115,
   "id": "acc97e7f-fca9-4bc5-976e-127d80632621",
   "metadata": {},
   "outputs": [],
   "source": [
    "successive_data = []\n",
    "answers = []\n",
    "for i in range(5,count_m):\n",
    "    successive_data.append([modified_data[i-5],modified_data[i]])\n",
    "    if modified_data[i] >0:\n",
    "        answers.append(1)\n",
    "    else:\n",
    "        answers.append(0)"
   ]
  },
  {
   "cell_type": "markdown",
   "id": "4c6a8d56-2681-44c5-9bdc-a46e345032aa",
   "metadata": {},
   "source": [
    "線形回帰"
   ]
  },
  {
   "cell_type": "code",
   "execution_count": 116,
   "id": "070a2047-4eac-4630-8e8a-5c0ae57ccce6",
   "metadata": {
    "tags": []
   },
   "outputs": [
    {
     "name": "stderr",
     "output_type": "stream",
     "text": [
      "/Users/odanaoki/.anyenv/envs/pyenv/versions/3.10.2/lib/python3.10/site-packages/sklearn/linear_model/_base.py:141: FutureWarning: 'normalize' was deprecated in version 1.0 and will be removed in 1.2.\n",
      "If you wish to scale the data, use Pipeline with a StandardScaler in a preprocessing stage. To reproduce the previous behavior:\n",
      "\n",
      "from sklearn.pipeline import make_pipeline\n",
      "\n",
      "model = make_pipeline(StandardScaler(with_mean=False), LinearRegression())\n",
      "\n",
      "If you wish to pass a sample_weight parameter, you need to pass it as a fit parameter to each step of the pipeline as follows:\n",
      "\n",
      "kwargs = {s[0] + '__sample_weight': sample_weight for s in model.steps}\n",
      "model.fit(X, y, **kwargs)\n",
      "\n",
      "\n",
      "  warnings.warn(\n"
     ]
    },
    {
     "data": {
      "text/plain": [
       "LinearRegression(normalize=True)"
      ]
     },
     "execution_count": 116,
     "metadata": {},
     "output_type": "execute_result"
    }
   ],
   "source": [
    "from sklearn.linear_model import LinearRegression\n",
    "lr = LinearRegression(normalize=True)\n",
    "lr.fit(train_x,train_y)"
   ]
  },
  {
   "cell_type": "code",
   "execution_count": 117,
   "id": "89324a37-5958-44b8-8fe3-b758062373f0",
   "metadata": {},
   "outputs": [],
   "source": [
    "pred_y = lr.predict(test_x)"
   ]
  },
  {
   "cell_type": "code",
   "execution_count": 118,
   "id": "4443baa9-35b8-4fde-a33e-10a50169d128",
   "metadata": {
    "tags": []
   },
   "outputs": [
    {
     "data": {
      "image/png": "[encoded data removed]",
      "text/plain": [
       "<Figure size 1000x600 with 1 Axes>"
      ]
     },
     "metadata": {
      "needs_background": "light"
     },
     "output_type": "display_data"
    }
   ],
   "source": [
    "plt.figure(figsize=(10,6),dpi=100)\n",
    "plt.plot(test_y,c='b',label='test')\n",
    "plt.plot(pred_y,c='r',label='pred')\n",
    "plt.legend()\n",
    "plt.savefig('stock-prediction.png')\n",
    "plt.show()"
   ]
  },
  {
   "cell_type": "code",
   "execution_count": 119,
   "id": "1a05b3c3-0b34-478f-b467-62e1e2ed36a9",
   "metadata": {
    "tags": []
   },
   "outputs": [
    {
     "name": "stdout",
     "output_type": "stream",
     "text": [
      "0.8623976797542685\n",
      "0.7598834983076102\n"
     ]
    }
   ],
   "source": [
    "print(lr.score(train_x,train_y))\n",
    "print(lr.score(test_x,test_y))"
   ]
  },
  {
   "cell_type": "code",
   "execution_count": 120,
   "id": "b07732b3-5fc5-412a-a8df-d66cb67b4550",
   "metadata": {
    "tags": []
   },
   "outputs": [
    {
     "name": "stdout",
     "output_type": "stream",
     "text": [
      "average 243.4152582653362\n",
      "max 1073.7875478437745\n"
     ]
    }
   ],
   "source": [
    "# モデルの予測結果と実際の結果の差\n",
    "\n",
    "pred_y -test_y\n",
    "diff_y = abs(pred_y-test_y)\n",
    "print('average',sum(diff_y)/len(diff_y))\n",
    "print('max',max(diff_y))\n"
   ]
  },
  {
   "cell_type": "markdown",
   "id": "395ff99e-a8ad-4a2b-a59a-d9ea792d01f4",
   "metadata": {},
   "source": [
    "分類\n"
   ]
  },
  {
   "cell_type": "code",
   "execution_count": 121,
   "id": "36d42da3-7c36-4c9c-b432-e4af32e44274",
   "metadata": {},
   "outputs": [],
   "source": [
    "from sklearn import svm\n",
    "from sklearn.model_selection import train_test_split\n",
    "from sklearn.metrics import accuracy_score"
   ]
  },
  {
   "cell_type": "code",
   "execution_count": 122,
   "id": "8b5c5939-e57b-4f13-a497-818c60f132b2",
   "metadata": {},
   "outputs": [],
   "source": [
    "x_train,x_test,y_train,y_test = train_test_split(successive_data,answers,test_size=0.3)"
   ]
  },
  {
   "cell_type": "code",
   "execution_count": 123,
   "id": "d43b07f9-bd39-4729-ae53-f68a69f70d9c",
   "metadata": {},
   "outputs": [
    {
     "data": {
      "text/plain": [
       "LinearSVC()"
      ]
     },
     "execution_count": 123,
     "metadata": {},
     "output_type": "execute_result"
    }
   ],
   "source": [
    "svm = svm.LinearSVC()\n",
    "svm.fit(x_train,y_train)"
   ]
  },
  {
   "cell_type": "code",
   "execution_count": 124,
   "id": "c41fa620-97cf-436e-9eee-46648accbf38",
   "metadata": {},
   "outputs": [],
   "source": [
    "y_train_pred=svm.predict(x_train)\n",
    "y_val_pred = svm.predict(x_test)"
   ]
  },
  {
   "cell_type": "code",
   "execution_count": 125,
   "id": "7f8bde74-1879-4cb8-a73a-b34db6ba0987",
   "metadata": {},
   "outputs": [
    {
     "name": "stdout",
     "output_type": "stream",
     "text": [
      "トレーニングデータに対する正解率:56.886227544910184%\n",
      "テストデータに対する正解率:47.22222222222222%\n"
     ]
    }
   ],
   "source": [
    "train_score = accuracy_score(y_train,y_train_pred)\n",
    "test_score= accuracy_score(y_test,y_val_pred)\n",
    "print(\"トレーニングデータに対する正解率:\" + str(train_score * 100) + '%')\n",
    "print(\"テストデータに対する正解率:\" +str(test_score*100) + '%')\n"
   ]
  },
  {
   "cell_type": "code",
   "execution_count": 126,
   "id": "c9bbf0f3-88b0-4c47-9a0f-93512ff8e1b0",
   "metadata": {},
   "outputs": [],
   "source": [
    "# モデルの保存\n",
    "import pickle\n",
    "with open('model.pickle', mode='wb') as fp:\n",
    "    pickle.dump(lr,fp)\n",
    "    \n"
   ]
  },
  {
   "cell_type": "code",
   "execution_count": 127,
   "id": "831c060f-91a0-4529-b70b-3b41e1e58e7c",
   "metadata": {},
   "outputs": [],
   "source": [
    "import pickle\n",
    "with open('model2.pickle',mode='wb') as fp:\n",
    "    pickle.dump(svm,fp)"
   ]
  },
  {
   "cell_type": "code",
   "execution_count": 128,
   "id": "b94dda5e-6a7a-4eb3-8e57-e095dcc29b4c",
   "metadata": {},
   "outputs": [],
   "source": [
    "with open('model.pickle', mode='rb') as fp:\n",
    "    lr = pickle.load(fp)"
   ]
  },
  {
   "cell_type": "code",
   "execution_count": 129,
   "id": "21860300-a117-4f1a-89b2-1d2d2c224aed",
   "metadata": {},
   "outputs": [
    {
     "data": {
      "text/plain": [
       "LinearRegression(normalize=True)"
      ]
     },
     "execution_count": 129,
     "metadata": {},
     "output_type": "execute_result"
    }
   ],
   "source": [
    "lr"
   ]
  },
  {
   "cell_type": "code",
   "execution_count": 130,
   "id": "d4a7d563-ecd3-47fa-9d05-f99037b9f923",
   "metadata": {},
   "outputs": [],
   "source": [
    "with open('model2.pickle', mode='rb') as fp:\n",
    "    svm = pickle.load(fp)"
   ]
  },
  {
   "cell_type": "code",
   "execution_count": 131,
   "id": "54f48196-2dee-44c6-89e2-1d9be5937592",
   "metadata": {},
   "outputs": [
    {
     "data": {
      "text/plain": [
       "LinearSVC()"
      ]
     },
     "execution_count": 131,
     "metadata": {},
     "output_type": "execute_result"
    }
   ],
   "source": [
    "svm"
   ]
  },
  {
   "cell_type": "code",
   "execution_count": 132,
   "id": "febc43ca-50eb-49ad-b615-1c645515fee6",
   "metadata": {},
   "outputs": [],
   "source": [
    "predict_year = df1.iloc[len(df1)-6:len(df1)]\n",
    "interval = 5\n",
    "predict_x, test_y = make_data(predict_year)"
   ]
  },
  {
   "cell_type": "code",
   "execution_count": 133,
   "id": "01cec6ce-ab0f-429e-8755-f23cec121879",
   "metadata": {},
   "outputs": [
    {
     "name": "stdout",
     "output_type": "stream",
     "text": [
      "[21861.84698713]\n"
     ]
    }
   ],
   "source": [
    "pred_y = lr.predict(predict_x)\n",
    "print(pred_y)"
   ]
  },
  {
   "cell_type": "code",
   "execution_count": 135,
   "id": "a164863c-f7a1-49e6-b46c-3b06ecc6a131",
   "metadata": {},
   "outputs": [
    {
     "name": "stdout",
     "output_type": "stream",
     "text": [
      "[21802.59]\n",
      "[59.25698713]\n"
     ]
    }
   ],
   "source": [
    "print(test_y)\n",
    "diff_y = abs(pred_y-test_y)\n",
    "print(diff_y)"
   ]
  },
  {
   "cell_type": "code",
   "execution_count": 139,
   "id": "aa82bf50-277f-4726-81b5-62a8cbef4eb3",
   "metadata": {},
   "outputs": [],
   "source": [
    "df2 = df1.iloc[len(df1)-7:len(df1)]\n",
    "counts = len(df2)\n",
    "modified_data = []\n",
    "for i in range(1,counts):\n",
    "    modified_data.append(float(df2[i+len(df1)-7]-df2[i+len(df1)-8])/float(df2[i+len(df1)-8]))\n",
    "count_m= len(modified_data)\n",
    "successive_data=[]\n",
    "answers = []\n",
    "for i in range (5,count_m):\n",
    "    successive_data.append([modified_data[i-5],modified_data[i]])"
   ]
  },
  {
   "cell_type": "code",
   "execution_count": 140,
   "id": "4214c4de-a738-45cb-911a-80ca075f39de",
   "metadata": {},
   "outputs": [
    {
     "name": "stdout",
     "output_type": "stream",
     "text": [
      "[1]\n"
     ]
    }
   ],
   "source": [
    "pred_y = svm.predict(successive_data)\n",
    "print(pred_y)"
   ]
  },
  {
   "cell_type": "code",
   "execution_count": 145,
   "id": "c89eba21-051b-4beb-844d-44b93063241d",
   "metadata": {},
   "outputs": [
    {
     "name": "stdout",
     "output_type": "stream",
     "text": [
      "[1]\n"
     ]
    }
   ],
   "source": [
    "successive_data = []\n",
    "answers = []\n",
    "for i in range(5,count_m):\n",
    "    successive_data.append([modified_data[i-4],modified_data[i]])\n",
    "    if modified_data[i] > 0:\n",
    "        answers.append(1)\n",
    "    else:\n",
    "        answers.append(0)\n",
    "print(answers)"
   ]
  },
  {
   "cell_type": "code",
   "execution_count": null,
   "id": "979606ee-b21e-4b4e-8842-17f46f301ba3",
   "metadata": {},
   "outputs": [],
   "source": []
  }
 ],
 "metadata": {
  "kernelspec": {
   "display_name": "Python 3 (ipykernel)",
   "language": "python",
   "name": "python3"
  },
  "language_info": {
   "codemirror_mode": {
    "name": "ipython",
    "version": 3
   },
   "file_extension": ".py",
   "mimetype": "text/x-python",
   "name": "python",
   "nbconvert_exporter": "python",
   "pygments_lexer": "ipython3",
   "version": "3.10.2"
  }
 },
 "nbformat": 4,
 "nbformat_minor": 5
}
