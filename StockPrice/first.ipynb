{
 "cells": [
  {
   "cell_type": "code",
   "execution_count": 1,
   "id": "aa4795c1-c10f-40fa-b241-a3507e32cb65",
   "metadata": {
    "tags": []
   },
   "outputs": [],
   "source": [
    "import csv\n",
    "import requests\n",
    "import time\n",
    "from bs4 import BeautifulSoup\n",
    "\n",
    "i=1\n",
    "csv_file = open('output.csv','wt',newline = '',encoding = 'utf-8')\n",
    "csv_write= csv.writer(csv_file)\n",
    "\n",
    "while i<=25:\n",
    "    url = 'https://ai-scraping2021.herokuapp.com/index?page=' + str(i)\n",
    "    html = requests.get(url)\n",
    "    soup = BeautifulSoup(html.text, 'lxml')\n",
    "    \n",
    "    trs=soup.table.find_all('tr')\n",
    "    for tr in trs:\n",
    "        csv_data = []\n",
    "        for cell in tr.find_all(['td','th']):\n",
    "            csv_data.append(cell.get_text())\n",
    "        csv_write.writerow(csv_data)\n",
    "    time.sleep(3)\n",
    "    i+=1\n",
    "csv_file.close()"
   ]
  },
  {
   "cell_type": "code",
   "execution_count": null,
   "id": "2a2d3e95-8a2c-4e9f-a80b-45456bbee9d0",
   "metadata": {},
   "outputs": [],
   "source": []
  }
 ],
 "metadata": {
  "kernelspec": {
   "display_name": "Python 3 (ipykernel)",
   "language": "python",
   "name": "python3"
  },
  "language_info": {
   "codemirror_mode": {
    "name": "ipython",
    "version": 3
   },
   "file_extension": ".py",
   "mimetype": "text/x-python",
   "name": "python",
   "nbconvert_exporter": "python",
   "pygments_lexer": "ipython3",
   "version": "3.10.2"
  }
 },
 "nbformat": 4,
 "nbformat_minor": 5
}
